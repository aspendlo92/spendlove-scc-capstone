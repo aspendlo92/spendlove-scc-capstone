{
  "nbformat": 4,
  "nbformat_minor": 0,
  "metadata": {
    "colab": {
      "provenance": []
    },
    "kernelspec": {
      "name": "ir",
      "display_name": "R"
    },
    "language_info": {
      "name": "R"
    }
  },
  "cells": [
    {
      "cell_type": "code",
      "execution_count": null,
      "metadata": {
        "colab": {
          "base_uri": "https://localhost:8080/"
        },
        "id": "miVl1xohiELf",
        "outputId": "31aa023d-e79e-4851-bacf-4f33b30cacc2"
      },
      "outputs": [
        {
          "output_type": "stream",
          "name": "stderr",
          "text": [
            "Installing package into ‘/usr/local/lib/R/site-library’\n",
            "(as ‘lib’ is unspecified)\n",
            "\n",
            "Installing package into ‘/usr/local/lib/R/site-library’\n",
            "(as ‘lib’ is unspecified)\n",
            "\n",
            "\n",
            "Attaching package: ‘dplyr’\n",
            "\n",
            "\n",
            "The following objects are masked from ‘package:stats’:\n",
            "\n",
            "    filter, lag\n",
            "\n",
            "\n",
            "The following objects are masked from ‘package:base’:\n",
            "\n",
            "    intersect, setdiff, setequal, union\n",
            "\n",
            "\n"
          ]
        }
      ],
      "source": [
        "# Load libraries\n",
        "install.packages(\"fastDummies\")\n",
        "install.packages(\"ggplot2\")\n",
        "library(fastDummies)\n",
        "library(tidyr)\n",
        "library(dplyr)\n",
        "library(ggplot2)\n",
        "\n",
        "# Read in data\n",
        "all <- read.csv('profile_all_cleaned.csv')\n",
        "subset <- read.csv('profile_subset_cleaned.csv')"
      ]
    },
    {
      "cell_type": "code",
      "source": [
        "head(all)\n",
        "nrow(all)\n",
        "nrow(subset)"
      ],
      "metadata": {
        "colab": {
          "base_uri": "https://localhost:8080/",
          "height": 445
        },
        "id": "eZgTSmA9joB8",
        "outputId": "e7c834e1-cbb5-473b-f0e5-17afe23994bb"
      },
      "execution_count": null,
      "outputs": [
        {
          "output_type": "display_data",
          "data": {
            "text/html": [
              "<table class=\"dataframe\">\n",
              "<caption>A data.frame: 6 × 19</caption>\n",
              "<thead>\n",
              "\t<tr><th></th><th scope=col>CUSTOMER_NUMBER</th><th scope=col>PRIMARY_GROUP_NUMBER</th><th scope=col>FREQUENT_ORDER_TYPE</th><th scope=col>FIRST_DELIVERY_DATE</th><th scope=col>ON_BOARDING_DATE</th><th scope=col>COLD_DRINK_CHANNEL</th><th scope=col>TRADE_CHANNEL</th><th scope=col>SUB_TRADE_CHANNEL</th><th scope=col>LOCAL_MARKET_PARTNER</th><th scope=col>CO2_CUSTOMER</th><th scope=col>ZIP_CODE</th><th scope=col>total_gal_2023</th><th scope=col>total_gal_2024</th><th scope=col>avg_gal_per_year</th><th scope=col>cases_total</th><th scope=col>fountain_total</th><th scope=col>threshold_400_gal</th><th scope=col>percent_change</th><th scope=col>fountain_only</th></tr>\n",
              "\t<tr><th></th><th scope=col>&lt;int&gt;</th><th scope=col>&lt;int&gt;</th><th scope=col>&lt;chr&gt;</th><th scope=col>&lt;chr&gt;</th><th scope=col>&lt;chr&gt;</th><th scope=col>&lt;chr&gt;</th><th scope=col>&lt;chr&gt;</th><th scope=col>&lt;chr&gt;</th><th scope=col>&lt;lgl&gt;</th><th scope=col>&lt;lgl&gt;</th><th scope=col>&lt;int&gt;</th><th scope=col>&lt;dbl&gt;</th><th scope=col>&lt;dbl&gt;</th><th scope=col>&lt;dbl&gt;</th><th scope=col>&lt;dbl&gt;</th><th scope=col>&lt;dbl&gt;</th><th scope=col>&lt;lgl&gt;</th><th scope=col>&lt;dbl&gt;</th><th scope=col>&lt;lgl&gt;</th></tr>\n",
              "</thead>\n",
              "<tbody>\n",
              "\t<tr><th scope=row>1</th><td>500245678</td><td>  NA</td><td>SALES REP  </td><td>2018-03-19</td><td>2015-03-11</td><td>EVENT </td><td>OUTDOOR ACTIVITIES  </td><td>OTHER OUTDOOR ACTIVITIES  </td><td>TRUE</td><td> TRUE</td><td>66508</td><td>370.0</td><td>383.5</td><td>376.75</td><td>361.0</td><td> 392.5</td><td>FALSE</td><td>  3.648649</td><td>FALSE</td></tr>\n",
              "\t<tr><th scope=row>2</th><td>500245685</td><td>  NA</td><td>OTHER      </td><td>2018-03-02</td><td>2015-08-18</td><td>DINING</td><td>FAST CASUAL DINING  </td><td>PIZZA FAST FOOD           </td><td>TRUE</td><td> TRUE</td><td>21913</td><td>601.5</td><td>482.0</td><td>541.75</td><td> 61.0</td><td>1022.5</td><td> TRUE</td><td>-19.866999</td><td>FALSE</td></tr>\n",
              "\t<tr><th scope=row>3</th><td>500245686</td><td>8333</td><td>CALL CENTER</td><td>2023-03-07</td><td>2015-08-05</td><td>GOODS </td><td>SPECIALIZED GOODS   </td><td>OTHER GOODS               </td><td>TRUE</td><td>FALSE</td><td> 1350</td><td> 17.5</td><td> 18.5</td><td> 18.00</td><td> 36.0</td><td>   0.0</td><td>FALSE</td><td>  5.714286</td><td>FALSE</td></tr>\n",
              "\t<tr><th scope=row>4</th><td>500245687</td><td>  NA</td><td>OTHER      </td><td>2018-03-19</td><td>2015-08-06</td><td>EVENT </td><td>OUTDOOR ACTIVITIES  </td><td>OTHER OUTDOOR ACTIVITIES  </td><td>TRUE</td><td> TRUE</td><td>42252</td><td>125.0</td><td>147.5</td><td>136.25</td><td>  0.0</td><td> 272.5</td><td>FALSE</td><td> 18.000000</td><td> TRUE</td></tr>\n",
              "\t<tr><th scope=row>5</th><td>500245689</td><td>  NA</td><td>OTHER      </td><td>2018-02-28</td><td>2015-08-25</td><td>DINING</td><td>LICENSED HOSPITALITY</td><td>OTHER LICENSED HOSPITALITY</td><td>TRUE</td><td>FALSE</td><td>42031</td><td>546.5</td><td>621.0</td><td>583.75</td><td>287.5</td><td> 880.0</td><td> TRUE</td><td> 13.632205</td><td>FALSE</td></tr>\n",
              "\t<tr><th scope=row>6</th><td>500245690</td><td>2272</td><td>SALES REP  </td><td>2018-03-01</td><td>2015-08-25</td><td>DINING</td><td>FAST CASUAL DINING  </td><td>OTHER FAST FOOD           </td><td>TRUE</td><td> TRUE</td><td> 1245</td><td>325.0</td><td>300.5</td><td>312.75</td><td>123.0</td><td> 502.5</td><td>FALSE</td><td> -7.538462</td><td>FALSE</td></tr>\n",
              "</tbody>\n",
              "</table>\n"
            ],
            "text/markdown": "\nA data.frame: 6 × 19\n\n| <!--/--> | CUSTOMER_NUMBER &lt;int&gt; | PRIMARY_GROUP_NUMBER &lt;int&gt; | FREQUENT_ORDER_TYPE &lt;chr&gt; | FIRST_DELIVERY_DATE &lt;chr&gt; | ON_BOARDING_DATE &lt;chr&gt; | COLD_DRINK_CHANNEL &lt;chr&gt; | TRADE_CHANNEL &lt;chr&gt; | SUB_TRADE_CHANNEL &lt;chr&gt; | LOCAL_MARKET_PARTNER &lt;lgl&gt; | CO2_CUSTOMER &lt;lgl&gt; | ZIP_CODE &lt;int&gt; | total_gal_2023 &lt;dbl&gt; | total_gal_2024 &lt;dbl&gt; | avg_gal_per_year &lt;dbl&gt; | cases_total &lt;dbl&gt; | fountain_total &lt;dbl&gt; | threshold_400_gal &lt;lgl&gt; | percent_change &lt;dbl&gt; | fountain_only &lt;lgl&gt; |\n|---|---|---|---|---|---|---|---|---|---|---|---|---|---|---|---|---|---|---|---|\n| 1 | 500245678 |   NA | SALES REP   | 2018-03-19 | 2015-03-11 | EVENT  | OUTDOOR ACTIVITIES   | OTHER OUTDOOR ACTIVITIES   | TRUE |  TRUE | 66508 | 370.0 | 383.5 | 376.75 | 361.0 |  392.5 | FALSE |   3.648649 | FALSE |\n| 2 | 500245685 |   NA | OTHER       | 2018-03-02 | 2015-08-18 | DINING | FAST CASUAL DINING   | PIZZA FAST FOOD            | TRUE |  TRUE | 21913 | 601.5 | 482.0 | 541.75 |  61.0 | 1022.5 |  TRUE | -19.866999 | FALSE |\n| 3 | 500245686 | 8333 | CALL CENTER | 2023-03-07 | 2015-08-05 | GOODS  | SPECIALIZED GOODS    | OTHER GOODS                | TRUE | FALSE |  1350 |  17.5 |  18.5 |  18.00 |  36.0 |    0.0 | FALSE |   5.714286 | FALSE |\n| 4 | 500245687 |   NA | OTHER       | 2018-03-19 | 2015-08-06 | EVENT  | OUTDOOR ACTIVITIES   | OTHER OUTDOOR ACTIVITIES   | TRUE |  TRUE | 42252 | 125.0 | 147.5 | 136.25 |   0.0 |  272.5 | FALSE |  18.000000 |  TRUE |\n| 5 | 500245689 |   NA | OTHER       | 2018-02-28 | 2015-08-25 | DINING | LICENSED HOSPITALITY | OTHER LICENSED HOSPITALITY | TRUE | FALSE | 42031 | 546.5 | 621.0 | 583.75 | 287.5 |  880.0 |  TRUE |  13.632205 | FALSE |\n| 6 | 500245690 | 2272 | SALES REP   | 2018-03-01 | 2015-08-25 | DINING | FAST CASUAL DINING   | OTHER FAST FOOD            | TRUE |  TRUE |  1245 | 325.0 | 300.5 | 312.75 | 123.0 |  502.5 | FALSE |  -7.538462 | FALSE |\n\n",
            "text/latex": "A data.frame: 6 × 19\n\\begin{tabular}{r|lllllllllllllllllll}\n  & CUSTOMER\\_NUMBER & PRIMARY\\_GROUP\\_NUMBER & FREQUENT\\_ORDER\\_TYPE & FIRST\\_DELIVERY\\_DATE & ON\\_BOARDING\\_DATE & COLD\\_DRINK\\_CHANNEL & TRADE\\_CHANNEL & SUB\\_TRADE\\_CHANNEL & LOCAL\\_MARKET\\_PARTNER & CO2\\_CUSTOMER & ZIP\\_CODE & total\\_gal\\_2023 & total\\_gal\\_2024 & avg\\_gal\\_per\\_year & cases\\_total & fountain\\_total & threshold\\_400\\_gal & percent\\_change & fountain\\_only\\\\\n  & <int> & <int> & <chr> & <chr> & <chr> & <chr> & <chr> & <chr> & <lgl> & <lgl> & <int> & <dbl> & <dbl> & <dbl> & <dbl> & <dbl> & <lgl> & <dbl> & <lgl>\\\\\n\\hline\n\t1 & 500245678 &   NA & SALES REP   & 2018-03-19 & 2015-03-11 & EVENT  & OUTDOOR ACTIVITIES   & OTHER OUTDOOR ACTIVITIES   & TRUE &  TRUE & 66508 & 370.0 & 383.5 & 376.75 & 361.0 &  392.5 & FALSE &   3.648649 & FALSE\\\\\n\t2 & 500245685 &   NA & OTHER       & 2018-03-02 & 2015-08-18 & DINING & FAST CASUAL DINING   & PIZZA FAST FOOD            & TRUE &  TRUE & 21913 & 601.5 & 482.0 & 541.75 &  61.0 & 1022.5 &  TRUE & -19.866999 & FALSE\\\\\n\t3 & 500245686 & 8333 & CALL CENTER & 2023-03-07 & 2015-08-05 & GOODS  & SPECIALIZED GOODS    & OTHER GOODS                & TRUE & FALSE &  1350 &  17.5 &  18.5 &  18.00 &  36.0 &    0.0 & FALSE &   5.714286 & FALSE\\\\\n\t4 & 500245687 &   NA & OTHER       & 2018-03-19 & 2015-08-06 & EVENT  & OUTDOOR ACTIVITIES   & OTHER OUTDOOR ACTIVITIES   & TRUE &  TRUE & 42252 & 125.0 & 147.5 & 136.25 &   0.0 &  272.5 & FALSE &  18.000000 &  TRUE\\\\\n\t5 & 500245689 &   NA & OTHER       & 2018-02-28 & 2015-08-25 & DINING & LICENSED HOSPITALITY & OTHER LICENSED HOSPITALITY & TRUE & FALSE & 42031 & 546.5 & 621.0 & 583.75 & 287.5 &  880.0 &  TRUE &  13.632205 & FALSE\\\\\n\t6 & 500245690 & 2272 & SALES REP   & 2018-03-01 & 2015-08-25 & DINING & FAST CASUAL DINING   & OTHER FAST FOOD            & TRUE &  TRUE &  1245 & 325.0 & 300.5 & 312.75 & 123.0 &  502.5 & FALSE &  -7.538462 & FALSE\\\\\n\\end{tabular}\n",
            "text/plain": [
              "  CUSTOMER_NUMBER PRIMARY_GROUP_NUMBER FREQUENT_ORDER_TYPE FIRST_DELIVERY_DATE\n",
              "1 500245678         NA                 SALES REP           2018-03-19         \n",
              "2 500245685         NA                 OTHER               2018-03-02         \n",
              "3 500245686       8333                 CALL CENTER         2023-03-07         \n",
              "4 500245687         NA                 OTHER               2018-03-19         \n",
              "5 500245689         NA                 OTHER               2018-02-28         \n",
              "6 500245690       2272                 SALES REP           2018-03-01         \n",
              "  ON_BOARDING_DATE COLD_DRINK_CHANNEL TRADE_CHANNEL       \n",
              "1 2015-03-11       EVENT              OUTDOOR ACTIVITIES  \n",
              "2 2015-08-18       DINING             FAST CASUAL DINING  \n",
              "3 2015-08-05       GOODS              SPECIALIZED GOODS   \n",
              "4 2015-08-06       EVENT              OUTDOOR ACTIVITIES  \n",
              "5 2015-08-25       DINING             LICENSED HOSPITALITY\n",
              "6 2015-08-25       DINING             FAST CASUAL DINING  \n",
              "  SUB_TRADE_CHANNEL          LOCAL_MARKET_PARTNER CO2_CUSTOMER ZIP_CODE\n",
              "1 OTHER OUTDOOR ACTIVITIES   TRUE                  TRUE        66508   \n",
              "2 PIZZA FAST FOOD            TRUE                  TRUE        21913   \n",
              "3 OTHER GOODS                TRUE                 FALSE         1350   \n",
              "4 OTHER OUTDOOR ACTIVITIES   TRUE                  TRUE        42252   \n",
              "5 OTHER LICENSED HOSPITALITY TRUE                 FALSE        42031   \n",
              "6 OTHER FAST FOOD            TRUE                  TRUE         1245   \n",
              "  total_gal_2023 total_gal_2024 avg_gal_per_year cases_total fountain_total\n",
              "1 370.0          383.5          376.75           361.0        392.5        \n",
              "2 601.5          482.0          541.75            61.0       1022.5        \n",
              "3  17.5           18.5           18.00            36.0          0.0        \n",
              "4 125.0          147.5          136.25             0.0        272.5        \n",
              "5 546.5          621.0          583.75           287.5        880.0        \n",
              "6 325.0          300.5          312.75           123.0        502.5        \n",
              "  threshold_400_gal percent_change fountain_only\n",
              "1 FALSE               3.648649     FALSE        \n",
              "2  TRUE             -19.866999     FALSE        \n",
              "3 FALSE               5.714286     FALSE        \n",
              "4 FALSE              18.000000      TRUE        \n",
              "5  TRUE              13.632205     FALSE        \n",
              "6 FALSE              -7.538462     FALSE        "
            ]
          },
          "metadata": {}
        },
        {
          "output_type": "display_data",
          "data": {
            "text/html": [
              "30478"
            ],
            "text/markdown": "30478",
            "text/latex": "30478",
            "text/plain": [
              "[1] 30478"
            ]
          },
          "metadata": {}
        },
        {
          "output_type": "display_data",
          "data": {
            "text/html": [
              "1324"
            ],
            "text/markdown": "1324",
            "text/latex": "1324",
            "text/plain": [
              "[1] 1324"
            ]
          },
          "metadata": {}
        }
      ]
    },
    {
      "cell_type": "code",
      "source": [
        "## SUBSET\n",
        "\n",
        "# 1. Customers under 400-gallon threshold\n",
        "under_threshold <- subset(subset, threshold_400_gal == FALSE)\n",
        "\n",
        "# 2. YoY growth for under-threshold customers\n",
        "under_threshold$yoy_growth <- (under_threshold$total_gal_2024 - under_threshold$total_gal_2023) / under_threshold$total_gal_2023\n",
        "\n",
        "# 3. Number of such customers\n",
        "n_sub400 <- nrow(under_threshold)\n",
        "\n",
        "# 4. Gallons lost in 2024 if we drop them\n",
        "gallons_lost_2024 <- sum(under_threshold$total_gal_2024, na.rm = TRUE)\n",
        "\n",
        "# 5. Total 2024 gallons (all customers in subset)\n",
        "total_gal_2024_all <- sum(subset$total_gal_2024, na.rm = TRUE)\n",
        "\n",
        "# 6. Percent lost\n",
        "percent_lost <- gallons_lost_2024 / total_gal_2024_all * 100\n",
        "\n",
        "# 7. Summary\n",
        "summary_df <- data.frame(\n",
        "  sub400_customer_count = n_sub400,\n",
        "  gallons_lost_if_dropped = gallons_lost_2024,\n",
        "  total_gallons_2024 = total_gal_2024_all,\n",
        "  percent_of_total_lost = percent_lost\n",
        ")\n",
        "\n",
        "print(summary_df)\n",
        "\n"
      ],
      "metadata": {
        "colab": {
          "base_uri": "https://localhost:8080/"
        },
        "id": "JXfd9Oq8tEvJ",
        "outputId": "23e83214-79d7-4a24-c123-381b77181042"
      },
      "execution_count": null,
      "outputs": [
        {
          "output_type": "stream",
          "name": "stdout",
          "text": [
            "  sub400_customer_count gallons_lost_if_dropped total_gallons_2024\n",
            "1                  1141                122426.5           292526.5\n",
            "  percent_of_total_lost\n",
            "1              41.85141\n"
          ]
        }
      ]
    },
    {
      "cell_type": "code",
      "source": [
        "## ALL\n",
        "\n",
        "# 1. Customers under 400-gallon threshold\n",
        "under_threshold <- subset(all, threshold_400_gal == FALSE)\n",
        "\n",
        "# 2. YoY growth for under-threshold customers\n",
        "under_threshold$yoy_growth <- (under_threshold$total_gal_2024 - under_threshold$total_gal_2023) / under_threshold$total_gal_2023\n",
        "\n",
        "# 3. Number of such customers\n",
        "n_sub400 <- nrow(under_threshold)\n",
        "\n",
        "# 4. Gallons lost in 2024 if we drop them\n",
        "gallons_lost_2024 <- sum(under_threshold$total_gal_2024, na.rm = TRUE)\n",
        "\n",
        "# 5. Total 2024 gallons (all customers)\n",
        "total_gal_2024_all <- sum(all$total_gal_2024, na.rm = TRUE)\n",
        "\n",
        "# 6. Percent lost\n",
        "percent_lost <- gallons_lost_2024 / total_gal_2024_all * 100\n",
        "\n",
        "# 7. Summary\n",
        "summary_df_ALL <- data.frame(\n",
        "  sub400_customer_count_ALL = n_sub400,\n",
        "  gallons_lost_if_dropped_ALL = gallons_lost_2024,\n",
        "  total_gallons_2024_ALL = total_gal_2024_all,\n",
        "  percent_of_total_lost_ALL = percent_lost\n",
        ")\n",
        "\n",
        "print(summary_df_ALL)\n",
        "\n"
      ],
      "metadata": {
        "colab": {
          "base_uri": "https://localhost:8080/"
        },
        "id": "SUqZEtio1F1t",
        "outputId": "2fa5495a-d7c4-4a90-831d-96d1b201fa81"
      },
      "execution_count": null,
      "outputs": [
        {
          "output_type": "stream",
          "name": "stdout",
          "text": [
            "  sub400_customer_count_ALL gallons_lost_if_dropped_ALL total_gallons_2024_ALL\n",
            "1                     22772                     2928766               19691874\n",
            "  percent_of_total_lost_ALL\n",
            "1                  14.87297\n"
          ]
        }
      ]
    },
    {
      "cell_type": "code",
      "source": [
        "drop_by_percent <- subset[subset$percent_change < 0, ]\n",
        "count_percent <- nrow(drop_by_percent)\n",
        "gallons_lost <- sum(drop_by_percent$total_gal_2024, na.rm = TRUE)\n",
        "percent_lost <- gallons_lost_percent / total_gal_2024_all * 100\n",
        "\n",
        "summary_df <- data.frame(\n",
        "  count_percent,\n",
        "  gallons_lost_percent,\n",
        "  percent_lost_percent\n",
        ")\n",
        "\n",
        "print(summary_df)"
      ],
      "metadata": {
        "colab": {
          "base_uri": "https://localhost:8080/"
        },
        "id": "RdIxOZ8E-EzR",
        "outputId": "c9c302a6-7761-4f66-db59-3d2c57db1492"
      },
      "execution_count": null,
      "outputs": [
        {
          "output_type": "stream",
          "name": "stdout",
          "text": [
            "  count_percent gallons_lost_percent percent_lost_percent\n",
            "1           597               131919            0.6699159\n"
          ]
        }
      ]
    },
    {
      "cell_type": "code",
      "source": [
        "# Filter: Customers under 400-gallon threshold\n",
        "under_threshold <- subset(subset, threshold_400_gal == FALSE)\n",
        "\n",
        "# Split into two groups based on percent_change\n",
        "growing <- under_threshold[under_threshold$percent_change >= 0, ]\n",
        "shrinking <- under_threshold[under_threshold$percent_change < 0, ]\n",
        "\n",
        "# Count of customers\n",
        "n_growing <- nrow(growing)\n",
        "n_shrinking <- nrow(shrinking)\n",
        "\n",
        "# Gallons lost in 2024 if either group were dropped\n",
        "gallons_lost_growing <- sum(growing$total_gal_2024, na.rm = TRUE)\n",
        "gallons_lost_shrinking <- sum(shrinking$total_gal_2024, na.rm = TRUE)\n",
        "\n",
        "# Total 2024 gallons (for comparison)\n",
        "total_gal_2024_all <- sum(subset$total_gal_2024, na.rm = TRUE)\n",
        "\n",
        "# Percent of total lost if either group dropped\n",
        "percent_lost_growing <- gallons_lost_growing / total_gal_2024_all * 100\n",
        "percent_lost_shrinking <- gallons_lost_shrinking / total_gal_2024_all * 100\n",
        "\n",
        "# Summary table\n",
        "summary_df <- data.frame(\n",
        "  group = c(\"Under 400 & Growing (>= 0%)\", \"Under 400 & Shrinking (< 0%)\"),\n",
        "  customer_count = c(n_growing, n_shrinking),\n",
        "  gallons_lost_if_dropped = c(gallons_lost_growing, gallons_lost_shrinking),\n",
        "  percent_of_total_2024_lost = c(percent_lost_growing, percent_lost_shrinking)\n",
        ")\n",
        "\n",
        "print(summary_df)\n"
      ],
      "metadata": {
        "id": "rLjgtFD1G25U",
        "outputId": "9b6c0815-648a-4400-ef8c-d0be5fa7ffa6",
        "colab": {
          "base_uri": "https://localhost:8080/"
        }
      },
      "execution_count": null,
      "outputs": [
        {
          "output_type": "stream",
          "name": "stdout",
          "text": [
            "                         group customer_count gallons_lost_if_dropped\n",
            "1  Under 400 & Growing (>= 0%)            648                72657.46\n",
            "2 Under 400 & Shrinking (< 0%)            493                49769.00\n",
            "  percent_of_total_2024_lost\n",
            "1                   24.83791\n",
            "2                   17.01350\n"
          ]
        }
      ]
    }
  ]
}