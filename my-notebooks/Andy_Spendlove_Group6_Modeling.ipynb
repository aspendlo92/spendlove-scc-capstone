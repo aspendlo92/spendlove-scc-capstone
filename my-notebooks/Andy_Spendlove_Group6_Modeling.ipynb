{
  "cells": [
    {
      "cell_type": "markdown",
      "source": [
        "## Predictive Modeling  Exploration: Logistic Regression with and without lasso and ridge regularization"
      ],
      "metadata": {
        "id": "jFaRRwxrzSvv"
      }
    },
    {
      "cell_type": "code",
      "execution_count": null,
      "metadata": {
        "id": "qBVxkwRNW5bv"
      },
      "outputs": [],
      "source": [
        "# !jupyter nbconvert --to html \"/content/drive/MyDrive/Colab Notebooks/###.ipynb\" --output \"/content/drive/MyDrive/Colab Notebooks/####.html\""
      ]
    },
    {
      "cell_type": "code",
      "execution_count": null,
      "metadata": {
        "colab": {
          "base_uri": "https://localhost:8080/",
          "height": 410
        },
        "id": "is_f9jIyRvhC",
        "outputId": "13a81cb1-aadd-4480-95ae-690fd11a11d6"
      },
      "outputs": [
        {
          "output_type": "display_data",
          "data": {
            "text/html": [
              "<table class=\"dataframe\">\n",
              "<caption>A grouped_df: 6 × 21</caption>\n",
              "<thead>\n",
              "\t<tr><th scope=col>CUSTOMER_NUMBER</th><th scope=col>total_order_2023</th><th scope=col>total_order_2024</th><th scope=col>percent_change</th><th scope=col>growth_category</th><th scope=col>FIRST_DELIVERY_DATE</th><th scope=col>years_since_first_order</th><th scope=col>TRADE_CHANNEL.x</th><th scope=col>CO2_CUSTOMER</th><th scope=col>COLD_DRINK_CHANNEL</th><th scope=col>⋯</th><th scope=col>LOCAL_MARKET_PARTNER</th><th scope=col>FREQUENT_ORDER_TYPE</th><th scope=col>TRADE_CHANNEL.y</th><th scope=col>SALES REP</th><th scope=col>CALL CENTER</th><th scope=col>null</th><th scope=col>MYCOKE LEGACY</th><th scope=col>MYCOKE360</th><th scope=col>OTHER</th><th scope=col>EDI</th></tr>\n",
              "\t<tr><th scope=col>&lt;int&gt;</th><th scope=col>&lt;dbl&gt;</th><th scope=col>&lt;dbl&gt;</th><th scope=col>&lt;dbl&gt;</th><th scope=col>&lt;chr&gt;</th><th scope=col>&lt;date&gt;</th><th scope=col>&lt;dbl&gt;</th><th scope=col>&lt;fct&gt;</th><th scope=col>&lt;lgl&gt;</th><th scope=col>&lt;fct&gt;</th><th scope=col>⋯</th><th scope=col>&lt;lgl&gt;</th><th scope=col>&lt;fct&gt;</th><th scope=col>&lt;fct&gt;</th><th scope=col>&lt;dbl&gt;</th><th scope=col>&lt;dbl&gt;</th><th scope=col>&lt;dbl&gt;</th><th scope=col>&lt;dbl&gt;</th><th scope=col>&lt;dbl&gt;</th><th scope=col>&lt;dbl&gt;</th><th scope=col>&lt;dbl&gt;</th></tr>\n",
              "</thead>\n",
              "<tbody>\n",
              "\t<tr><td>500245678</td><td> 370.0</td><td> 383.5</td><td>  3.648649</td><td>grew    </td><td>2018-03-19</td><td>6</td><td>OUTDOOR ACTIVITIES     </td><td> TRUE</td><td>EVENT   </td><td>⋯</td><td> TRUE</td><td>SALES REP</td><td>OUTDOOR ACTIVITIES     </td><td>721</td><td> 32.5</td><td>0</td><td>   0.0</td><td>  0.0</td><td>0</td><td>0</td></tr>\n",
              "\t<tr><td>500245685</td><td> 601.5</td><td> 482.0</td><td>-19.866999</td><td>declined</td><td>2018-03-02</td><td>6</td><td>FAST CASUAL DINING     </td><td> TRUE</td><td>DINING  </td><td>⋯</td><td> TRUE</td><td>OTHER    </td><td>FAST CASUAL DINING     </td><td>  0</td><td>212.5</td><td>0</td><td> 871.0</td><td>  0.0</td><td>0</td><td>0</td></tr>\n",
              "\t<tr><td>500245689</td><td> 546.5</td><td> 621.0</td><td> 13.632205</td><td>grew    </td><td>2018-02-28</td><td>6</td><td>LICENSED HOSPITALITY   </td><td>FALSE</td><td>DINING  </td><td>⋯</td><td> TRUE</td><td>OTHER    </td><td>LICENSED HOSPITALITY   </td><td>  0</td><td>  0.0</td><td>0</td><td> 929.0</td><td>238.5</td><td>0</td><td>0</td></tr>\n",
              "\t<tr><td>500245690</td><td> 325.0</td><td> 300.5</td><td> -7.538462</td><td>declined</td><td>2018-03-01</td><td>6</td><td>FAST CASUAL DINING     </td><td> TRUE</td><td>DINING  </td><td>⋯</td><td> TRUE</td><td>SALES REP</td><td>FAST CASUAL DINING     </td><td>  1</td><td> 10.0</td><td>0</td><td> 516.5</td><td> 98.0</td><td>0</td><td>0</td></tr>\n",
              "\t<tr><td>500245695</td><td>1037.5</td><td> 807.5</td><td>-22.168675</td><td>declined</td><td>2018-02-28</td><td>6</td><td>HEALTHCARE             </td><td> TRUE</td><td>WELLNESS</td><td>⋯</td><td> TRUE</td><td>OTHER    </td><td>HEALTHCARE             </td><td>  0</td><td>  0.0</td><td>0</td><td>1562.5</td><td>282.5</td><td>0</td><td>0</td></tr>\n",
              "\t<tr><td>500245698</td><td> 282.0</td><td>1088.5</td><td>285.992908</td><td><span style=white-space:pre-wrap>grew    </span></td><td>2018-03-02</td><td>6</td><td>OTHER DINING &amp; BEVERAGE</td><td>FALSE</td><td><span style=white-space:pre-wrap>DINING  </span></td><td>⋯</td><td>FALSE</td><td><span style=white-space:pre-wrap>OTHER    </span></td><td>OTHER DINING &amp; BEVERAGE</td><td><span style=white-space:pre-wrap>  0</span></td><td>498.5</td><td>0</td><td> 229.0</td><td>643.0</td><td>0</td><td>0</td></tr>\n",
              "</tbody>\n",
              "</table>\n"
            ],
            "text/markdown": "\nA grouped_df: 6 × 21\n\n| CUSTOMER_NUMBER &lt;int&gt; | total_order_2023 &lt;dbl&gt; | total_order_2024 &lt;dbl&gt; | percent_change &lt;dbl&gt; | growth_category &lt;chr&gt; | FIRST_DELIVERY_DATE &lt;date&gt; | years_since_first_order &lt;dbl&gt; | TRADE_CHANNEL.x &lt;fct&gt; | CO2_CUSTOMER &lt;lgl&gt; | COLD_DRINK_CHANNEL &lt;fct&gt; | ⋯ ⋯ | LOCAL_MARKET_PARTNER &lt;lgl&gt; | FREQUENT_ORDER_TYPE &lt;fct&gt; | TRADE_CHANNEL.y &lt;fct&gt; | SALES REP &lt;dbl&gt; | CALL CENTER &lt;dbl&gt; | null &lt;dbl&gt; | MYCOKE LEGACY &lt;dbl&gt; | MYCOKE360 &lt;dbl&gt; | OTHER &lt;dbl&gt; | EDI &lt;dbl&gt; |\n|---|---|---|---|---|---|---|---|---|---|---|---|---|---|---|---|---|---|---|---|---|\n| 500245678 |  370.0 |  383.5 |   3.648649 | grew     | 2018-03-19 | 6 | OUTDOOR ACTIVITIES      |  TRUE | EVENT    | ⋯ |  TRUE | SALES REP | OUTDOOR ACTIVITIES      | 721 |  32.5 | 0 |    0.0 |   0.0 | 0 | 0 |\n| 500245685 |  601.5 |  482.0 | -19.866999 | declined | 2018-03-02 | 6 | FAST CASUAL DINING      |  TRUE | DINING   | ⋯ |  TRUE | OTHER     | FAST CASUAL DINING      |   0 | 212.5 | 0 |  871.0 |   0.0 | 0 | 0 |\n| 500245689 |  546.5 |  621.0 |  13.632205 | grew     | 2018-02-28 | 6 | LICENSED HOSPITALITY    | FALSE | DINING   | ⋯ |  TRUE | OTHER     | LICENSED HOSPITALITY    |   0 |   0.0 | 0 |  929.0 | 238.5 | 0 | 0 |\n| 500245690 |  325.0 |  300.5 |  -7.538462 | declined | 2018-03-01 | 6 | FAST CASUAL DINING      |  TRUE | DINING   | ⋯ |  TRUE | SALES REP | FAST CASUAL DINING      |   1 |  10.0 | 0 |  516.5 |  98.0 | 0 | 0 |\n| 500245695 | 1037.5 |  807.5 | -22.168675 | declined | 2018-02-28 | 6 | HEALTHCARE              |  TRUE | WELLNESS | ⋯ |  TRUE | OTHER     | HEALTHCARE              |   0 |   0.0 | 0 | 1562.5 | 282.5 | 0 | 0 |\n| 500245698 |  282.0 | 1088.5 | 285.992908 | grew     | 2018-03-02 | 6 | OTHER DINING &amp; BEVERAGE | FALSE | DINING   | ⋯ | FALSE | OTHER     | OTHER DINING &amp; BEVERAGE |   0 | 498.5 | 0 |  229.0 | 643.0 | 0 | 0 |\n\n",
            "text/latex": "A grouped\\_df: 6 × 21\n\\begin{tabular}{lllllllllllllllllllll}\n CUSTOMER\\_NUMBER & total\\_order\\_2023 & total\\_order\\_2024 & percent\\_change & growth\\_category & FIRST\\_DELIVERY\\_DATE & years\\_since\\_first\\_order & TRADE\\_CHANNEL.x & CO2\\_CUSTOMER & COLD\\_DRINK\\_CHANNEL & ⋯ & LOCAL\\_MARKET\\_PARTNER & FREQUENT\\_ORDER\\_TYPE & TRADE\\_CHANNEL.y & SALES REP & CALL CENTER & null & MYCOKE LEGACY & MYCOKE360 & OTHER & EDI\\\\\n <int> & <dbl> & <dbl> & <dbl> & <chr> & <date> & <dbl> & <fct> & <lgl> & <fct> & ⋯ & <lgl> & <fct> & <fct> & <dbl> & <dbl> & <dbl> & <dbl> & <dbl> & <dbl> & <dbl>\\\\\n\\hline\n\t 500245678 &  370.0 &  383.5 &   3.648649 & grew     & 2018-03-19 & 6 & OUTDOOR ACTIVITIES      &  TRUE & EVENT    & ⋯ &  TRUE & SALES REP & OUTDOOR ACTIVITIES      & 721 &  32.5 & 0 &    0.0 &   0.0 & 0 & 0\\\\\n\t 500245685 &  601.5 &  482.0 & -19.866999 & declined & 2018-03-02 & 6 & FAST CASUAL DINING      &  TRUE & DINING   & ⋯ &  TRUE & OTHER     & FAST CASUAL DINING      &   0 & 212.5 & 0 &  871.0 &   0.0 & 0 & 0\\\\\n\t 500245689 &  546.5 &  621.0 &  13.632205 & grew     & 2018-02-28 & 6 & LICENSED HOSPITALITY    & FALSE & DINING   & ⋯ &  TRUE & OTHER     & LICENSED HOSPITALITY    &   0 &   0.0 & 0 &  929.0 & 238.5 & 0 & 0\\\\\n\t 500245690 &  325.0 &  300.5 &  -7.538462 & declined & 2018-03-01 & 6 & FAST CASUAL DINING      &  TRUE & DINING   & ⋯ &  TRUE & SALES REP & FAST CASUAL DINING      &   1 &  10.0 & 0 &  516.5 &  98.0 & 0 & 0\\\\\n\t 500245695 & 1037.5 &  807.5 & -22.168675 & declined & 2018-02-28 & 6 & HEALTHCARE              &  TRUE & WELLNESS & ⋯ &  TRUE & OTHER     & HEALTHCARE              &   0 &   0.0 & 0 & 1562.5 & 282.5 & 0 & 0\\\\\n\t 500245698 &  282.0 & 1088.5 & 285.992908 & grew     & 2018-03-02 & 6 & OTHER DINING \\& BEVERAGE & FALSE & DINING   & ⋯ & FALSE & OTHER     & OTHER DINING \\& BEVERAGE &   0 & 498.5 & 0 &  229.0 & 643.0 & 0 & 0\\\\\n\\end{tabular}\n",
            "text/plain": [
              "  CUSTOMER_NUMBER total_order_2023 total_order_2024 percent_change\n",
              "1 500245678        370.0            383.5             3.648649    \n",
              "2 500245685        601.5            482.0           -19.866999    \n",
              "3 500245689        546.5            621.0            13.632205    \n",
              "4 500245690        325.0            300.5            -7.538462    \n",
              "5 500245695       1037.5            807.5           -22.168675    \n",
              "6 500245698        282.0           1088.5           285.992908    \n",
              "  growth_category FIRST_DELIVERY_DATE years_since_first_order\n",
              "1 grew            2018-03-19          6                      \n",
              "2 declined        2018-03-02          6                      \n",
              "3 grew            2018-02-28          6                      \n",
              "4 declined        2018-03-01          6                      \n",
              "5 declined        2018-02-28          6                      \n",
              "6 grew            2018-03-02          6                      \n",
              "  TRADE_CHANNEL.x         CO2_CUSTOMER COLD_DRINK_CHANNEL ⋯\n",
              "1 OUTDOOR ACTIVITIES       TRUE        EVENT              ⋯\n",
              "2 FAST CASUAL DINING       TRUE        DINING             ⋯\n",
              "3 LICENSED HOSPITALITY    FALSE        DINING             ⋯\n",
              "4 FAST CASUAL DINING       TRUE        DINING             ⋯\n",
              "5 HEALTHCARE               TRUE        WELLNESS           ⋯\n",
              "6 OTHER DINING & BEVERAGE FALSE        DINING             ⋯\n",
              "  LOCAL_MARKET_PARTNER FREQUENT_ORDER_TYPE TRADE_CHANNEL.y         SALES REP\n",
              "1  TRUE                SALES REP           OUTDOOR ACTIVITIES      721      \n",
              "2  TRUE                OTHER               FAST CASUAL DINING        0      \n",
              "3  TRUE                OTHER               LICENSED HOSPITALITY      0      \n",
              "4  TRUE                SALES REP           FAST CASUAL DINING        1      \n",
              "5  TRUE                OTHER               HEALTHCARE                0      \n",
              "6 FALSE                OTHER               OTHER DINING & BEVERAGE   0      \n",
              "  CALL CENTER null MYCOKE LEGACY MYCOKE360 OTHER EDI\n",
              "1  32.5       0       0.0          0.0     0     0  \n",
              "2 212.5       0     871.0          0.0     0     0  \n",
              "3   0.0       0     929.0        238.5     0     0  \n",
              "4  10.0       0     516.5         98.0     0     0  \n",
              "5   0.0       0    1562.5        282.5     0     0  \n",
              "6 498.5       0     229.0        643.0     0     0  "
            ]
          },
          "metadata": {}
        }
      ],
      "source": [
        "complete_data <- customer_year_summary %>%\n",
        "  drop_na()\n",
        "\n",
        "head(complete_data)"
      ]
    },
    {
      "cell_type": "code",
      "execution_count": null,
      "metadata": {
        "colab": {
          "base_uri": "https://localhost:8080/"
        },
        "id": "OMMBOxzbU_wy",
        "outputId": "48148913-1b5c-43d5-e37b-d31b68058d17",
        "collapsed": true
      },
      "outputs": [
        {
          "output_type": "stream",
          "name": "stderr",
          "text": [
            "Installing package into ‘/usr/local/lib/R/site-library’\n",
            "(as ‘lib’ is unspecified)\n",
            "\n",
            "also installing the dependency ‘RcppEigen’\n",
            "\n",
            "\n",
            "Loading required package: Matrix\n",
            "\n",
            "\n",
            "Attaching package: ‘Matrix’\n",
            "\n",
            "\n",
            "The following objects are masked from ‘package:tidyr’:\n",
            "\n",
            "    expand, pack, unpack\n",
            "\n",
            "\n",
            "Loaded glmnet 4.1-8\n",
            "\n"
          ]
        }
      ],
      "source": [
        "install.packages('glmnet')\n",
        "library(tidyverse)  # For data wrangling\n",
        "library(caret)      # For machine learning utilities\n",
        "library(glmnet)     # For regularized logistic regression (Lasso/Ridge)"
      ]
    },
    {
      "cell_type": "code",
      "source": [
        "# Read in version of complete_data that is filtered to CO2 = False, Local Market Partner = True, and Fountain Only = True\n",
        "complete_data <- read.csv('complete_data_subset.csv')"
      ],
      "metadata": {
        "id": "yZDPodgn1RdW"
      },
      "execution_count": null,
      "outputs": []
    },
    {
      "cell_type": "code",
      "execution_count": null,
      "metadata": {
        "id": "AVPL0V7LYBnt"
      },
      "outputs": [],
      "source": [
        "# Change growth_category to a factor\n",
        "complete_data <- complete_data %>%\n",
        "  mutate(growth_category = factor(growth_category, levels = c(\"declined\", \"grew\")))\n"
      ]
    },
    {
      "cell_type": "code",
      "execution_count": null,
      "metadata": {
        "id": "Ymi7hAqNYITv",
        "collapsed": true
      },
      "outputs": [],
      "source": [
        "library(tidyverse)\n",
        "library(caret)\n",
        "\n",
        "# Ensure categorical variables are factors\n",
        "complete_data <- complete_data %>%\n",
        "  mutate(across(where(is.character), as.factor))\n",
        "\n",
        "# Drop ID-like columns\n",
        "model_data <- complete_data %>%\n",
        "  select(-CUSTOMER_NUMBER, -TRADE_CHANNEL.y)\n",
        "\n",
        "# Ensure target variable is a factor\n",
        "model_data$growth_category <- as.factor(model_data$growth_category)\n",
        "\n",
        "# Split data\n",
        "set.seed(42)\n",
        "train_index <- createDataPartition(model_data$growth_category, p = 0.8, list = FALSE)\n",
        "train_data <- model_data[train_index, ]\n",
        "test_data <- model_data[-train_index, ]\n",
        "\n",
        "# Check for missing values and handle them\n",
        "train_data <- na.omit(train_data)\n"
      ]
    },
    {
      "cell_type": "code",
      "source": [
        "levels(as.factor(train_data$growth_category))\n"
      ],
      "metadata": {
        "colab": {
          "base_uri": "https://localhost:8080/",
          "height": 34
        },
        "id": "yVHbQE9zWAg2",
        "outputId": "b4548676-1ec1-43a9-c818-bfc734444d7a"
      },
      "execution_count": null,
      "outputs": [
        {
          "output_type": "display_data",
          "data": {
            "text/html": [
              "<style>\n",
              ".list-inline {list-style: none; margin:0; padding: 0}\n",
              ".list-inline>li {display: inline-block}\n",
              ".list-inline>li:not(:last-child)::after {content: \"\\00b7\"; padding: 0 .5ex}\n",
              "</style>\n",
              "<ol class=list-inline><li>'declined'</li><li>'grew'</li></ol>\n"
            ],
            "text/markdown": "1. 'declined'\n2. 'grew'\n\n\n",
            "text/latex": "\\begin{enumerate*}\n\\item 'declined'\n\\item 'grew'\n\\end{enumerate*}\n",
            "text/plain": [
              "[1] \"declined\" \"grew\"    "
            ]
          },
          "metadata": {}
        }
      ]
    },
    {
      "cell_type": "code",
      "source": [
        "\n",
        "train_data <- train_data %>%\n",
        "  mutate(growth_category = as.factor(ifelse(growth_category == \"grew\", \"yes\", \"no\")))\n"
      ],
      "metadata": {
        "id": "TrHxktG7WGVw"
      },
      "execution_count": null,
      "outputs": []
    },
    {
      "cell_type": "code",
      "source": [
        "colSums(is.na(train_data))\n"
      ],
      "metadata": {
        "colab": {
          "base_uri": "https://localhost:8080/",
          "height": 86
        },
        "id": "_PYxZu4fWV6t",
        "outputId": "9b105628-bbba-4c97-f1ab-cd0bafd4ad06"
      },
      "execution_count": null,
      "outputs": [
        {
          "output_type": "display_data",
          "data": {
            "text/html": [
              "<style>\n",
              ".dl-inline {width: auto; margin:0; padding: 0}\n",
              ".dl-inline>dt, .dl-inline>dd {float: none; width: auto; display: inline-block}\n",
              ".dl-inline>dt::after {content: \":\\0020\"; padding-right: .5ex}\n",
              ".dl-inline>dt:not(:first-of-type) {padding-left: .5ex}\n",
              "</style><dl class=dl-inline><dt>total_order_2023</dt><dd>0</dd><dt>total_order_2024</dt><dd>0</dd><dt>percent_change</dt><dd>0</dd><dt>growth_category</dt><dd>0</dd><dt>TRADE_CHANNEL.x</dt><dd>0</dd><dt>COLD_DRINK_CHANNEL</dt><dd>0</dd><dt>SUB_TRADE_CHANNEL</dt><dd>0</dd><dt>FREQUENT_ORDER_TYPE</dt><dd>0</dd><dt>SALES.REP</dt><dd>0</dd><dt>CALL.CENTER</dt><dd>0</dd><dt>null</dt><dd>0</dd><dt>MYCOKE.LEGACY</dt><dd>0</dd><dt>MYCOKE360</dt><dd>0</dd><dt>OTHER</dt><dd>0</dd><dt>EDI</dt><dd>0</dd><dt>cases_total</dt><dd>0</dd><dt>fountain_total</dt><dd>0</dd></dl>\n"
            ],
            "text/markdown": "total_order_2023\n:   0total_order_2024\n:   0percent_change\n:   0growth_category\n:   0TRADE_CHANNEL.x\n:   0COLD_DRINK_CHANNEL\n:   0SUB_TRADE_CHANNEL\n:   0FREQUENT_ORDER_TYPE\n:   0SALES.REP\n:   0CALL.CENTER\n:   0null\n:   0MYCOKE.LEGACY\n:   0MYCOKE360\n:   0OTHER\n:   0EDI\n:   0cases_total\n:   0fountain_total\n:   0\n\n",
            "text/latex": "\\begin{description*}\n\\item[total\\textbackslash{}\\_order\\textbackslash{}\\_2023] 0\n\\item[total\\textbackslash{}\\_order\\textbackslash{}\\_2024] 0\n\\item[percent\\textbackslash{}\\_change] 0\n\\item[growth\\textbackslash{}\\_category] 0\n\\item[TRADE\\textbackslash{}\\_CHANNEL.x] 0\n\\item[COLD\\textbackslash{}\\_DRINK\\textbackslash{}\\_CHANNEL] 0\n\\item[SUB\\textbackslash{}\\_TRADE\\textbackslash{}\\_CHANNEL] 0\n\\item[FREQUENT\\textbackslash{}\\_ORDER\\textbackslash{}\\_TYPE] 0\n\\item[SALES.REP] 0\n\\item[CALL.CENTER] 0\n\\item[null] 0\n\\item[MYCOKE.LEGACY] 0\n\\item[MYCOKE360] 0\n\\item[OTHER] 0\n\\item[EDI] 0\n\\item[cases\\textbackslash{}\\_total] 0\n\\item[fountain\\textbackslash{}\\_total] 0\n\\end{description*}\n",
            "text/plain": [
              "   total_order_2023    total_order_2024      percent_change     growth_category \n",
              "                  0                   0                   0                   0 \n",
              "    TRADE_CHANNEL.x  COLD_DRINK_CHANNEL   SUB_TRADE_CHANNEL FREQUENT_ORDER_TYPE \n",
              "                  0                   0                   0                   0 \n",
              "          SALES.REP         CALL.CENTER                null       MYCOKE.LEGACY \n",
              "                  0                   0                   0                   0 \n",
              "          MYCOKE360               OTHER                 EDI         cases_total \n",
              "                  0                   0                   0                   0 \n",
              "     fountain_total \n",
              "                  0 "
            ]
          },
          "metadata": {}
        }
      ]
    },
    {
      "cell_type": "code",
      "source": [
        "sapply(train_data, function(x) sum(is.infinite(x) | is.nan(x)))\n"
      ],
      "metadata": {
        "colab": {
          "base_uri": "https://localhost:8080/",
          "height": 86
        },
        "id": "LLDFtWTMWaua",
        "outputId": "352043f8-b3e8-43de-f921-34aacb90d651"
      },
      "execution_count": null,
      "outputs": [
        {
          "output_type": "display_data",
          "data": {
            "text/html": [
              "<style>\n",
              ".dl-inline {width: auto; margin:0; padding: 0}\n",
              ".dl-inline>dt, .dl-inline>dd {float: none; width: auto; display: inline-block}\n",
              ".dl-inline>dt::after {content: \":\\0020\"; padding-right: .5ex}\n",
              ".dl-inline>dt:not(:first-of-type) {padding-left: .5ex}\n",
              "</style><dl class=dl-inline><dt>total_order_2023</dt><dd>0</dd><dt>total_order_2024</dt><dd>0</dd><dt>percent_change</dt><dd>0</dd><dt>growth_category</dt><dd>0</dd><dt>TRADE_CHANNEL.x</dt><dd>0</dd><dt>COLD_DRINK_CHANNEL</dt><dd>0</dd><dt>SUB_TRADE_CHANNEL</dt><dd>0</dd><dt>FREQUENT_ORDER_TYPE</dt><dd>0</dd><dt>SALES.REP</dt><dd>0</dd><dt>CALL.CENTER</dt><dd>0</dd><dt>null</dt><dd>0</dd><dt>MYCOKE.LEGACY</dt><dd>0</dd><dt>MYCOKE360</dt><dd>0</dd><dt>OTHER</dt><dd>0</dd><dt>EDI</dt><dd>0</dd><dt>cases_total</dt><dd>0</dd><dt>fountain_total</dt><dd>0</dd></dl>\n"
            ],
            "text/markdown": "total_order_2023\n:   0total_order_2024\n:   0percent_change\n:   0growth_category\n:   0TRADE_CHANNEL.x\n:   0COLD_DRINK_CHANNEL\n:   0SUB_TRADE_CHANNEL\n:   0FREQUENT_ORDER_TYPE\n:   0SALES.REP\n:   0CALL.CENTER\n:   0null\n:   0MYCOKE.LEGACY\n:   0MYCOKE360\n:   0OTHER\n:   0EDI\n:   0cases_total\n:   0fountain_total\n:   0\n\n",
            "text/latex": "\\begin{description*}\n\\item[total\\textbackslash{}\\_order\\textbackslash{}\\_2023] 0\n\\item[total\\textbackslash{}\\_order\\textbackslash{}\\_2024] 0\n\\item[percent\\textbackslash{}\\_change] 0\n\\item[growth\\textbackslash{}\\_category] 0\n\\item[TRADE\\textbackslash{}\\_CHANNEL.x] 0\n\\item[COLD\\textbackslash{}\\_DRINK\\textbackslash{}\\_CHANNEL] 0\n\\item[SUB\\textbackslash{}\\_TRADE\\textbackslash{}\\_CHANNEL] 0\n\\item[FREQUENT\\textbackslash{}\\_ORDER\\textbackslash{}\\_TYPE] 0\n\\item[SALES.REP] 0\n\\item[CALL.CENTER] 0\n\\item[null] 0\n\\item[MYCOKE.LEGACY] 0\n\\item[MYCOKE360] 0\n\\item[OTHER] 0\n\\item[EDI] 0\n\\item[cases\\textbackslash{}\\_total] 0\n\\item[fountain\\textbackslash{}\\_total] 0\n\\end{description*}\n",
            "text/plain": [
              "   total_order_2023    total_order_2024      percent_change     growth_category \n",
              "                  0                   0                   0                   0 \n",
              "    TRADE_CHANNEL.x  COLD_DRINK_CHANNEL   SUB_TRADE_CHANNEL FREQUENT_ORDER_TYPE \n",
              "                  0                   0                   0                   0 \n",
              "          SALES.REP         CALL.CENTER                null       MYCOKE.LEGACY \n",
              "                  0                   0                   0                   0 \n",
              "          MYCOKE360               OTHER                 EDI         cases_total \n",
              "                  0                   0                   0                   0 \n",
              "     fountain_total \n",
              "                  0 "
            ]
          },
          "metadata": {}
        }
      ]
    },
    {
      "cell_type": "code",
      "source": [
        "train_data$percent_change[is.infinite(train_data$percent_change)] <- NA\n",
        "train_data$percent_change[is.nan(train_data$percent_change)] <- NA\n"
      ],
      "metadata": {
        "id": "KpSByYEsWrIM"
      },
      "execution_count": null,
      "outputs": []
    },
    {
      "cell_type": "code",
      "source": [
        "train_data$percent_change[is.na(train_data$percent_change)] <- median(train_data$percent_change, na.rm = TRUE)\n"
      ],
      "metadata": {
        "id": "uIAo4JXQWurI"
      },
      "execution_count": null,
      "outputs": []
    },
    {
      "cell_type": "code",
      "source": [
        "sapply(train_data, function(x) sum(is.infinite(x) | is.nan(x)))"
      ],
      "metadata": {
        "colab": {
          "base_uri": "https://localhost:8080/",
          "height": 86
        },
        "id": "zV-BSzR-W0q8",
        "outputId": "cf7b4b82-2b7a-4cad-9323-687274c08104"
      },
      "execution_count": null,
      "outputs": [
        {
          "output_type": "display_data",
          "data": {
            "text/html": [
              "<style>\n",
              ".dl-inline {width: auto; margin:0; padding: 0}\n",
              ".dl-inline>dt, .dl-inline>dd {float: none; width: auto; display: inline-block}\n",
              ".dl-inline>dt::after {content: \":\\0020\"; padding-right: .5ex}\n",
              ".dl-inline>dt:not(:first-of-type) {padding-left: .5ex}\n",
              "</style><dl class=dl-inline><dt>total_order_2023</dt><dd>0</dd><dt>total_order_2024</dt><dd>0</dd><dt>percent_change</dt><dd>0</dd><dt>growth_category</dt><dd>0</dd><dt>TRADE_CHANNEL.x</dt><dd>0</dd><dt>COLD_DRINK_CHANNEL</dt><dd>0</dd><dt>SUB_TRADE_CHANNEL</dt><dd>0</dd><dt>FREQUENT_ORDER_TYPE</dt><dd>0</dd><dt>SALES.REP</dt><dd>0</dd><dt>CALL.CENTER</dt><dd>0</dd><dt>null</dt><dd>0</dd><dt>MYCOKE.LEGACY</dt><dd>0</dd><dt>MYCOKE360</dt><dd>0</dd><dt>OTHER</dt><dd>0</dd><dt>EDI</dt><dd>0</dd><dt>cases_total</dt><dd>0</dd><dt>fountain_total</dt><dd>0</dd></dl>\n"
            ],
            "text/markdown": "total_order_2023\n:   0total_order_2024\n:   0percent_change\n:   0growth_category\n:   0TRADE_CHANNEL.x\n:   0COLD_DRINK_CHANNEL\n:   0SUB_TRADE_CHANNEL\n:   0FREQUENT_ORDER_TYPE\n:   0SALES.REP\n:   0CALL.CENTER\n:   0null\n:   0MYCOKE.LEGACY\n:   0MYCOKE360\n:   0OTHER\n:   0EDI\n:   0cases_total\n:   0fountain_total\n:   0\n\n",
            "text/latex": "\\begin{description*}\n\\item[total\\textbackslash{}\\_order\\textbackslash{}\\_2023] 0\n\\item[total\\textbackslash{}\\_order\\textbackslash{}\\_2024] 0\n\\item[percent\\textbackslash{}\\_change] 0\n\\item[growth\\textbackslash{}\\_category] 0\n\\item[TRADE\\textbackslash{}\\_CHANNEL.x] 0\n\\item[COLD\\textbackslash{}\\_DRINK\\textbackslash{}\\_CHANNEL] 0\n\\item[SUB\\textbackslash{}\\_TRADE\\textbackslash{}\\_CHANNEL] 0\n\\item[FREQUENT\\textbackslash{}\\_ORDER\\textbackslash{}\\_TYPE] 0\n\\item[SALES.REP] 0\n\\item[CALL.CENTER] 0\n\\item[null] 0\n\\item[MYCOKE.LEGACY] 0\n\\item[MYCOKE360] 0\n\\item[OTHER] 0\n\\item[EDI] 0\n\\item[cases\\textbackslash{}\\_total] 0\n\\item[fountain\\textbackslash{}\\_total] 0\n\\end{description*}\n",
            "text/plain": [
              "   total_order_2023    total_order_2024      percent_change     growth_category \n",
              "                  0                   0                   0                   0 \n",
              "    TRADE_CHANNEL.x  COLD_DRINK_CHANNEL   SUB_TRADE_CHANNEL FREQUENT_ORDER_TYPE \n",
              "                  0                   0                   0                   0 \n",
              "          SALES.REP         CALL.CENTER                null       MYCOKE.LEGACY \n",
              "                  0                   0                   0                   0 \n",
              "          MYCOKE360               OTHER                 EDI         cases_total \n",
              "                  0                   0                   0                   0 \n",
              "     fountain_total \n",
              "                  0 "
            ]
          },
          "metadata": {}
        }
      ]
    },
    {
      "cell_type": "code",
      "source": [
        "# Original model\n",
        "logistic_model <- glm(growth_category ~ ., data = train_data, family = binomial)\n",
        "summary(logistic_model)\n"
      ],
      "metadata": {
        "colab": {
          "base_uri": "https://localhost:8080/",
          "height": 1000
        },
        "collapsed": true,
        "id": "iDk125LaWytT",
        "outputId": "17eb2c1a-7af0-4f1f-9bd3-4787edb4d580"
      },
      "execution_count": null,
      "outputs": [
        {
          "output_type": "stream",
          "name": "stderr",
          "text": [
            "Warning message:\n",
            "“glm.fit: algorithm did not converge”\n",
            "Warning message:\n",
            "“glm.fit: fitted probabilities numerically 0 or 1 occurred”\n"
          ]
        },
        {
          "output_type": "display_data",
          "data": {
            "text/plain": [
              "\n",
              "Call:\n",
              "glm(formula = growth_category ~ ., family = binomial, data = train_data)\n",
              "\n",
              "Coefficients: (30 not defined because of singularities)\n",
              "                                               Estimate Std. Error z value\n",
              "(Intercept)                                   6.836e+02  6.769e+05   0.001\n",
              "total_order_2023                             -3.454e+00  9.034e+02  -0.004\n",
              "total_order_2024                              3.385e+00  1.158e+03   0.003\n",
              "percent_change                                2.203e+00  1.178e+03   0.002\n",
              "TRADE_CHANNEL.xACTIVITIES                    -1.104e+02  4.914e+05   0.000\n",
              "TRADE_CHANNEL.xBULK TRADE                    -1.023e+03  5.290e+05  -0.002\n",
              "TRADE_CHANNEL.xCOMPREHENSIVE DINING          -4.431e+00  2.155e+05   0.000\n",
              "TRADE_CHANNEL.xEDUCATION                     -2.892e+01  4.175e+05   0.000\n",
              "TRADE_CHANNEL.xFAST CASUAL DINING             9.276e+00  4.027e+05   0.000\n",
              "TRADE_CHANNEL.xGENERAL RETAILER               1.952e+02  4.745e+07   0.000\n",
              "TRADE_CHANNEL.xGOURMET FOOD RETAILER         -3.780e+01  3.373e+05   0.000\n",
              "TRADE_CHANNEL.xHEALTHCARE                    -1.753e+01  2.505e+05   0.000\n",
              "TRADE_CHANNEL.xINDUSTRIAL                    -7.285e+00  2.895e+05   0.000\n",
              "TRADE_CHANNEL.xLICENSED HOSPITALITY          -1.844e+01  2.163e+05   0.000\n",
              "TRADE_CHANNEL.xMOBILE RETAIL                 -2.305e+02  4.377e+05  -0.001\n",
              "TRADE_CHANNEL.xOTHER DINING & BEVERAGE       -2.444e+01  2.162e+05   0.000\n",
              "TRADE_CHANNEL.xOUTDOOR ACTIVITIES            -1.057e+02  4.746e+07   0.000\n",
              "TRADE_CHANNEL.xPROFESSIONAL SERVICES          8.180e+00  2.280e+05   0.000\n",
              "TRADE_CHANNEL.xPUBLIC SECTOR (NON-MILITARY)  -6.289e+00  2.162e+06   0.000\n",
              "TRADE_CHANNEL.xRECREATION                    -1.252e+02  4.746e+07   0.000\n",
              "TRADE_CHANNEL.xSPECIALIZED GOODS              3.037e+02  2.721e+05   0.001\n",
              "TRADE_CHANNEL.xTRAVEL                         7.807e+02  2.758e+05   0.003\n",
              "TRADE_CHANNEL.xVEHICLE CARE                  -4.825e+02  6.525e+05  -0.001\n",
              "COLD_DRINK_CHANNELBULK TRADE                         NA         NA      NA\n",
              "COLD_DRINK_CHANNELDINING                             NA         NA      NA\n",
              "COLD_DRINK_CHANNELEVENT                       9.867e+01  4.746e+07   0.000\n",
              "COLD_DRINK_CHANNELGOODS                              NA         NA      NA\n",
              "COLD_DRINK_CHANNELPUBLIC SECTOR                      NA         NA      NA\n",
              "COLD_DRINK_CHANNELWELLNESS                           NA         NA      NA\n",
              "COLD_DRINK_CHANNELWORKPLACE                          NA         NA      NA\n",
              "SUB_TRADE_CHANNELBULK TRADE                          NA         NA      NA\n",
              "SUB_TRADE_CHANNELBURGER FAST FOOD             3.972e+01  3.816e+05   0.000\n",
              "SUB_TRADE_CHANNELFRATERNITY                          NA         NA      NA\n",
              "SUB_TRADE_CHANNELFSR - MISC                          NA         NA      NA\n",
              "SUB_TRADE_CHANNELGAME CENTER                         NA         NA      NA\n",
              "SUB_TRADE_CHANNELMEXICAN FAST FOOD           -1.026e+02  5.116e+05   0.000\n",
              "SUB_TRADE_CHANNELMOBILE RETAIL                       NA         NA      NA\n",
              "SUB_TRADE_CHANNELNON-RESTAURANT EDUCATION            NA         NA      NA\n",
              "SUB_TRADE_CHANNELOTHER ACCOMMODATION                 NA         NA      NA\n",
              "SUB_TRADE_CHANNELOTHER DINING                        NA         NA      NA\n",
              "SUB_TRADE_CHANNELOTHER FAST FOOD             -4.777e+01  3.410e+05   0.000\n",
              "SUB_TRADE_CHANNELOTHER GENERAL RETAIL                NA         NA      NA\n",
              "SUB_TRADE_CHANNELOTHER GOODS                         NA         NA      NA\n",
              "SUB_TRADE_CHANNELOTHER GOURMET FOOD                  NA         NA      NA\n",
              "SUB_TRADE_CHANNELOTHER HEALTHCARE                    NA         NA      NA\n",
              "SUB_TRADE_CHANNELOTHER INDUSTRIAL                    NA         NA      NA\n",
              "SUB_TRADE_CHANNELOTHER LICENSED HOSPITALITY          NA         NA      NA\n",
              "SUB_TRADE_CHANNELOTHER OUTDOOR ACTIVITIES            NA         NA      NA\n",
              "SUB_TRADE_CHANNELOTHER PROFESSIONAL SERVICES         NA         NA      NA\n",
              "SUB_TRADE_CHANNELOTHER PUBLIC SECTOR                 NA         NA      NA\n",
              "SUB_TRADE_CHANNELOTHER RECREATION             3.303e+02  6.549e+05   0.001\n",
              "SUB_TRADE_CHANNELOTHER TRAVEL                        NA         NA      NA\n",
              "SUB_TRADE_CHANNELOTHER VEHICLE CARE                  NA         NA      NA\n",
              "SUB_TRADE_CHANNELPIZZA FAST FOOD             -3.180e+01  5.113e+05   0.000\n",
              "SUB_TRADE_CHANNELRECREATION FILM                     NA         NA      NA\n",
              "SUB_TRADE_CHANNELSANDWICH FAST FOOD           5.666e+01  3.787e+05   0.000\n",
              "FREQUENT_ORDER_TYPEMYCOKE LEGACY             -5.933e+02  7.365e+05  -0.001\n",
              "FREQUENT_ORDER_TYPEMYCOKE360                 -7.262e+02  6.620e+05  -0.001\n",
              "FREQUENT_ORDER_TYPEOTHER                     -6.316e+02  6.413e+05  -0.001\n",
              "FREQUENT_ORDER_TYPESALES REP                 -6.652e+02  6.411e+05  -0.001\n",
              "SALES.REP                                     1.255e-02  8.047e+02   0.000\n",
              "CALL.CENTER                                   2.467e-03  6.963e+02   0.000\n",
              "null                                          3.463e+01  1.316e+05   0.000\n",
              "MYCOKE.LEGACY                                 1.078e-01  7.456e+02   0.000\n",
              "MYCOKE360                                    -3.143e-01  6.289e+02   0.000\n",
              "OTHER                                                NA         NA      NA\n",
              "EDI                                                  NA         NA      NA\n",
              "cases_total                                          NA         NA      NA\n",
              "fountain_total                                       NA         NA      NA\n",
              "                                             Pr(>|z|)\n",
              "(Intercept)                                     0.999\n",
              "total_order_2023                                0.997\n",
              "total_order_2024                                0.998\n",
              "percent_change                                  0.999\n",
              "TRADE_CHANNEL.xACTIVITIES                       1.000\n",
              "TRADE_CHANNEL.xBULK TRADE                       0.998\n",
              "TRADE_CHANNEL.xCOMPREHENSIVE DINING             1.000\n",
              "TRADE_CHANNEL.xEDUCATION                        1.000\n",
              "TRADE_CHANNEL.xFAST CASUAL DINING               1.000\n",
              "TRADE_CHANNEL.xGENERAL RETAILER                 1.000\n",
              "TRADE_CHANNEL.xGOURMET FOOD RETAILER            1.000\n",
              "TRADE_CHANNEL.xHEALTHCARE                       1.000\n",
              "TRADE_CHANNEL.xINDUSTRIAL                       1.000\n",
              "TRADE_CHANNEL.xLICENSED HOSPITALITY             1.000\n",
              "TRADE_CHANNEL.xMOBILE RETAIL                    1.000\n",
              "TRADE_CHANNEL.xOTHER DINING & BEVERAGE          1.000\n",
              "TRADE_CHANNEL.xOUTDOOR ACTIVITIES               1.000\n",
              "TRADE_CHANNEL.xPROFESSIONAL SERVICES            1.000\n",
              "TRADE_CHANNEL.xPUBLIC SECTOR (NON-MILITARY)     1.000\n",
              "TRADE_CHANNEL.xRECREATION                       1.000\n",
              "TRADE_CHANNEL.xSPECIALIZED GOODS                0.999\n",
              "TRADE_CHANNEL.xTRAVEL                           0.998\n",
              "TRADE_CHANNEL.xVEHICLE CARE                     0.999\n",
              "COLD_DRINK_CHANNELBULK TRADE                       NA\n",
              "COLD_DRINK_CHANNELDINING                           NA\n",
              "COLD_DRINK_CHANNELEVENT                         1.000\n",
              "COLD_DRINK_CHANNELGOODS                            NA\n",
              "COLD_DRINK_CHANNELPUBLIC SECTOR                    NA\n",
              "COLD_DRINK_CHANNELWELLNESS                         NA\n",
              "COLD_DRINK_CHANNELWORKPLACE                        NA\n",
              "SUB_TRADE_CHANNELBULK TRADE                        NA\n",
              "SUB_TRADE_CHANNELBURGER FAST FOOD               1.000\n",
              "SUB_TRADE_CHANNELFRATERNITY                        NA\n",
              "SUB_TRADE_CHANNELFSR - MISC                        NA\n",
              "SUB_TRADE_CHANNELGAME CENTER                       NA\n",
              "SUB_TRADE_CHANNELMEXICAN FAST FOOD              1.000\n",
              "SUB_TRADE_CHANNELMOBILE RETAIL                     NA\n",
              "SUB_TRADE_CHANNELNON-RESTAURANT EDUCATION          NA\n",
              "SUB_TRADE_CHANNELOTHER ACCOMMODATION               NA\n",
              "SUB_TRADE_CHANNELOTHER DINING                      NA\n",
              "SUB_TRADE_CHANNELOTHER FAST FOOD                1.000\n",
              "SUB_TRADE_CHANNELOTHER GENERAL RETAIL              NA\n",
              "SUB_TRADE_CHANNELOTHER GOODS                       NA\n",
              "SUB_TRADE_CHANNELOTHER GOURMET FOOD                NA\n",
              "SUB_TRADE_CHANNELOTHER HEALTHCARE                  NA\n",
              "SUB_TRADE_CHANNELOTHER INDUSTRIAL                  NA\n",
              "SUB_TRADE_CHANNELOTHER LICENSED HOSPITALITY        NA\n",
              "SUB_TRADE_CHANNELOTHER OUTDOOR ACTIVITIES          NA\n",
              "SUB_TRADE_CHANNELOTHER PROFESSIONAL SERVICES       NA\n",
              "SUB_TRADE_CHANNELOTHER PUBLIC SECTOR               NA\n",
              "SUB_TRADE_CHANNELOTHER RECREATION               1.000\n",
              "SUB_TRADE_CHANNELOTHER TRAVEL                      NA\n",
              "SUB_TRADE_CHANNELOTHER VEHICLE CARE                NA\n",
              "SUB_TRADE_CHANNELPIZZA FAST FOOD                1.000\n",
              "SUB_TRADE_CHANNELRECREATION FILM                   NA\n",
              "SUB_TRADE_CHANNELSANDWICH FAST FOOD             1.000\n",
              "FREQUENT_ORDER_TYPEMYCOKE LEGACY                0.999\n",
              "FREQUENT_ORDER_TYPEMYCOKE360                    0.999\n",
              "FREQUENT_ORDER_TYPEOTHER                        0.999\n",
              "FREQUENT_ORDER_TYPESALES REP                    0.999\n",
              "SALES.REP                                       1.000\n",
              "CALL.CENTER                                     1.000\n",
              "null                                            1.000\n",
              "MYCOKE.LEGACY                                   1.000\n",
              "MYCOKE360                                       1.000\n",
              "OTHER                                              NA\n",
              "EDI                                                NA\n",
              "cases_total                                        NA\n",
              "fountain_total                                     NA\n",
              "\n",
              "(Dispersion parameter for binomial family taken to be 1)\n",
              "\n",
              "    Null deviance: 6.2183e+02  on 456  degrees of freedom\n",
              "Residual deviance: 8.3236e-07  on 418  degrees of freedom\n",
              "AIC: 78\n",
              "\n",
              "Number of Fisher Scoring iterations: 25\n"
            ]
          },
          "metadata": {}
        }
      ]
    },
    {
      "cell_type": "code",
      "execution_count": null,
      "metadata": {
        "id": "_omAHZuUYP77",
        "colab": {
          "base_uri": "https://localhost:8080/",
          "height": 69
        },
        "outputId": "b28faa49-1a97-47d5-dffd-855153451750"
      },
      "outputs": [
        {
          "output_type": "display_data",
          "data": {
            "text/plain": [
              "\n",
              " no yes \n",
              "265 192 "
            ]
          },
          "metadata": {}
        }
      ],
      "source": [
        "table(train_data$growth_category)"
      ]
    },
    {
      "cell_type": "code",
      "source": [
        "library(glmnet)\n",
        "\n",
        "# Prepare the data\n",
        "X <- model.matrix(growth_category ~ ., data = train_data)[, -1]  # Remove intercept\n",
        "y <- train_data$growth_category  # Response variable\n",
        "\n",
        "# Convert y to a factor (if needed)\n",
        "y <- as.factor(y)\n",
        "\n",
        "# Define a sequence of lambda values to test\n",
        "lambda_seq <- 10^seq(3, -3, by = -0.1)\n",
        "\n",
        "# Fit Lasso Logistic Regression (alpha = 1 for Lasso)\n",
        "lasso_model <- cv.glmnet(X, y, family = \"binomial\", alpha = 1, lambda = lambda_seq)\n",
        "\n",
        "# Fit Ridge Logistic Regression (alpha = 0 for Ridge)\n",
        "ridge_model <- cv.glmnet(X, y, family = \"binomial\", alpha = 0, lambda = lambda_seq)\n",
        "\n",
        "# Find optimal lambda values\n",
        "best_lambda_lasso <- lasso_model$lambda.min\n",
        "best_lambda_ridge <- ridge_model$lambda.min\n",
        "\n",
        "# Print best lambda values\n",
        "print(paste(\"Best Lambda for Lasso:\", best_lambda_lasso))\n",
        "print(paste(\"Best Lambda for Ridge:\", best_lambda_ridge))\n",
        "\n",
        "# Get coefficients for the best Lasso model\n",
        "lasso_coef <- coef(lasso_model, s = \"lambda.min\")\n",
        "print(lasso_coef)\n",
        "\n",
        "# Get coefficients for the best Ridge model\n",
        "ridge_coef <- coef(ridge_model, s = \"lambda.min\")\n",
        "print(ridge_coef)\n",
        "\n",
        "# Prepare the test data and ensure no NA values in the response variable\n",
        "# Subset test_data to remove rows with NA in 'growth_category' (if any)\n",
        "test_data_subset <- test_data[!is.na(test_data$growth_category), ]\n",
        "\n",
        "# Check that both test data and predictions align\n",
        "X_test <- model.matrix(growth_category ~ ., data = test_data_subset)[, -1]\n",
        "y_test <- test_data_subset$growth_category\n",
        "\n",
        "# Predict on test data\n",
        "lasso_preds <- predict(lasso_model, s = best_lambda_lasso, newx = X_test, type = \"response\")\n",
        "ridge_preds <- predict(ridge_model, s = best_lambda_ridge, newx = X_test, type = \"response\")\n",
        "\n",
        "# Convert predictions to binary outcome (ensure same length)\n",
        "lasso_class <- ifelse(lasso_preds > 0.5, 1, 0)\n",
        "ridge_class <- ifelse(ridge_preds > 0.5, 1, 0)\n",
        "\n",
        "# Ensure that the predicted and actual labels have the same length\n",
        "lasso_class <- lasso_class[1:length(y_test)]\n",
        "ridge_class <- ridge_class[1:length(y_test)]\n",
        "\n",
        "# Evaluate accuracy (assuming test_data$growth_category is the true label)\n",
        "lasso_accuracy <- mean(lasso_class == y_test)\n",
        "ridge_accuracy <- mean(ridge_class == y_test)\n",
        "\n",
        "# Print the accuracies\n",
        "print(paste(\"Lasso Accuracy:\", lasso_accuracy))\n",
        "print(paste(\"Ridge Accuracy:\", ridge_accuracy))\n"
      ],
      "metadata": {
        "colab": {
          "base_uri": "https://localhost:8080/"
        },
        "id": "m3b7ZtcScshB",
        "outputId": "280ef785-58b7-4739-fb4f-9a4b021d09e4"
      },
      "execution_count": null,
      "outputs": [
        {
          "output_type": "stream",
          "name": "stdout",
          "text": [
            "[1] \"Best Lambda for Lasso: 0.001\"\n",
            "[1] \"Best Lambda for Ridge: 0.001\"\n",
            "70 x 1 sparse Matrix of class \"dgCMatrix\"\n",
            "                                                        s1\n",
            "(Intercept)                                  -4.643484e-01\n",
            "total_order_2023                             -2.616011e-04\n",
            "total_order_2024                              .           \n",
            "percent_change                                3.705999e-01\n",
            "TRADE_CHANNEL.xACTIVITIES                     .           \n",
            "TRADE_CHANNEL.xBULK TRADE                     .           \n",
            "TRADE_CHANNEL.xCOMPREHENSIVE DINING           3.832439e-01\n",
            "TRADE_CHANNEL.xEDUCATION                      3.335096e+00\n",
            "TRADE_CHANNEL.xFAST CASUAL DINING             .           \n",
            "TRADE_CHANNEL.xGENERAL RETAILER               .           \n",
            "TRADE_CHANNEL.xGOURMET FOOD RETAILER          .           \n",
            "TRADE_CHANNEL.xHEALTHCARE                     2.592711e+00\n",
            "TRADE_CHANNEL.xINDUSTRIAL                     3.910892e-01\n",
            "TRADE_CHANNEL.xLICENSED HOSPITALITY           .           \n",
            "TRADE_CHANNEL.xMOBILE RETAIL                  .           \n",
            "TRADE_CHANNEL.xOTHER DINING & BEVERAGE        .           \n",
            "TRADE_CHANNEL.xOUTDOOR ACTIVITIES            -9.899284e-01\n",
            "TRADE_CHANNEL.xPROFESSIONAL SERVICES          .           \n",
            "TRADE_CHANNEL.xPUBLIC SECTOR (NON-MILITARY)   .           \n",
            "TRADE_CHANNEL.xRECREATION                     .           \n",
            "TRADE_CHANNEL.xSPECIALIZED GOODS              .           \n",
            "TRADE_CHANNEL.xTRAVEL                         .           \n",
            "TRADE_CHANNEL.xVEHICLE CARE                   .           \n",
            "COLD_DRINK_CHANNELBULK TRADE                  .           \n",
            "COLD_DRINK_CHANNELDINING                      .           \n",
            "COLD_DRINK_CHANNELEVENT                       .           \n",
            "COLD_DRINK_CHANNELGOODS                       .           \n",
            "COLD_DRINK_CHANNELPUBLIC SECTOR               .           \n",
            "COLD_DRINK_CHANNELWELLNESS                    2.657123e-02\n",
            "COLD_DRINK_CHANNELWORKPLACE                   .           \n",
            "SUB_TRADE_CHANNELBULK TRADE                   .           \n",
            "SUB_TRADE_CHANNELBURGER FAST FOOD            -1.241748e+00\n",
            "SUB_TRADE_CHANNELFAITH                        .           \n",
            "SUB_TRADE_CHANNELFRATERNITY                   .           \n",
            "SUB_TRADE_CHANNELFSR - MISC                   7.031006e-03\n",
            "SUB_TRADE_CHANNELGAME CENTER                  1.697918e+00\n",
            "SUB_TRADE_CHANNELMEXICAN FAST FOOD            6.114643e-01\n",
            "SUB_TRADE_CHANNELMOBILE RETAIL                .           \n",
            "SUB_TRADE_CHANNELNON-RESTAURANT EDUCATION     2.418209e-02\n",
            "SUB_TRADE_CHANNELOTHER ACCOMMODATION          .           \n",
            "SUB_TRADE_CHANNELOTHER DINING                 .           \n",
            "SUB_TRADE_CHANNELOTHER FAST FOOD             -4.278488e-02\n",
            "SUB_TRADE_CHANNELOTHER GENERAL RETAIL         .           \n",
            "SUB_TRADE_CHANNELOTHER GOODS                  .           \n",
            "SUB_TRADE_CHANNELOTHER GOURMET FOOD           .           \n",
            "SUB_TRADE_CHANNELOTHER HEALTHCARE             8.557303e-03\n",
            "SUB_TRADE_CHANNELOTHER INDUSTRIAL             3.283704e-02\n",
            "SUB_TRADE_CHANNELOTHER LICENSED HOSPITALITY   .           \n",
            "SUB_TRADE_CHANNELOTHER OUTDOOR ACTIVITIES     .           \n",
            "SUB_TRADE_CHANNELOTHER PROFESSIONAL SERVICES  .           \n",
            "SUB_TRADE_CHANNELOTHER PUBLIC SECTOR          .           \n",
            "SUB_TRADE_CHANNELOTHER RECREATION             .           \n",
            "SUB_TRADE_CHANNELOTHER TRAVEL                 .           \n",
            "SUB_TRADE_CHANNELOTHER VEHICLE CARE           .           \n",
            "SUB_TRADE_CHANNELPIZZA FAST FOOD             -8.973070e-01\n",
            "SUB_TRADE_CHANNELRECREATION FILM             -2.150296e+00\n",
            "SUB_TRADE_CHANNELSANDWICH FAST FOOD           .           \n",
            "FREQUENT_ORDER_TYPEMYCOKE LEGACY              .           \n",
            "FREQUENT_ORDER_TYPEMYCOKE360                 -3.275791e-01\n",
            "FREQUENT_ORDER_TYPEOTHER                      4.195562e-01\n",
            "FREQUENT_ORDER_TYPESALES REP                  .           \n",
            "SALES.REP                                    -1.455705e-05\n",
            "CALL.CENTER                                  -1.653979e-04\n",
            "null                                          5.549190e-02\n",
            "MYCOKE.LEGACY                                 3.279297e-04\n",
            "MYCOKE360                                     .           \n",
            "OTHER                                        -5.328973e-05\n",
            "EDI                                           .           \n",
            "cases_total                                   .           \n",
            "fountain_total                                .           \n",
            "70 x 1 sparse Matrix of class \"dgCMatrix\"\n",
            "                                                        s1\n",
            "(Intercept)                                  -0.1339926010\n",
            "total_order_2023                             -0.0080733232\n",
            "total_order_2024                              0.0065929915\n",
            "percent_change                                0.0781290682\n",
            "TRADE_CHANNEL.xACTIVITIES                    -0.2279401208\n",
            "TRADE_CHANNEL.xBULK TRADE                    -0.0136636698\n",
            "TRADE_CHANNEL.xCOMPREHENSIVE DINING           0.0486322810\n",
            "TRADE_CHANNEL.xEDUCATION                      2.8136663551\n",
            "TRADE_CHANNEL.xFAST CASUAL DINING             0.1410569446\n",
            "TRADE_CHANNEL.xGENERAL RETAILER               0.5636383317\n",
            "TRADE_CHANNEL.xGOURMET FOOD RETAILER          1.5361930513\n",
            "TRADE_CHANNEL.xHEALTHCARE                     0.5768467118\n",
            "TRADE_CHANNEL.xINDUSTRIAL                     0.3310366479\n",
            "TRADE_CHANNEL.xLICENSED HOSPITALITY          -0.1122542601\n",
            "TRADE_CHANNEL.xMOBILE RETAIL                  0.5105138913\n",
            "TRADE_CHANNEL.xOTHER DINING & BEVERAGE        0.0271495274\n",
            "TRADE_CHANNEL.xOUTDOOR ACTIVITIES            -0.4354900596\n",
            "TRADE_CHANNEL.xPROFESSIONAL SERVICES         -0.0956445906\n",
            "TRADE_CHANNEL.xPUBLIC SECTOR (NON-MILITARY)   0.1498535441\n",
            "TRADE_CHANNEL.xRECREATION                    -0.1274104599\n",
            "TRADE_CHANNEL.xSPECIALIZED GOODS             -0.6669439101\n",
            "TRADE_CHANNEL.xTRAVEL                        -0.1316705802\n",
            "TRADE_CHANNEL.xVEHICLE CARE                  -0.7629693344\n",
            "COLD_DRINK_CHANNELBULK TRADE                 -0.0110508749\n",
            "COLD_DRINK_CHANNELDINING                      0.0704466711\n",
            "COLD_DRINK_CHANNELEVENT                      -0.2011806874\n",
            "COLD_DRINK_CHANNELGOODS                       0.2869466181\n",
            "COLD_DRINK_CHANNELPUBLIC SECTOR              -0.0508905608\n",
            "COLD_DRINK_CHANNELWELLNESS                    0.5766215400\n",
            "COLD_DRINK_CHANNELWORKPLACE                   0.0289278946\n",
            "SUB_TRADE_CHANNELBULK TRADE                  -0.0119123316\n",
            "SUB_TRADE_CHANNELBURGER FAST FOOD            -1.1346047410\n",
            "SUB_TRADE_CHANNELFAITH                        .           \n",
            "SUB_TRADE_CHANNELFRATERNITY                  -0.7044161547\n",
            "SUB_TRADE_CHANNELFSR - MISC                   0.0458254267\n",
            "SUB_TRADE_CHANNELGAME CENTER                  0.9542326008\n",
            "SUB_TRADE_CHANNELMEXICAN FAST FOOD           -0.5602156377\n",
            "SUB_TRADE_CHANNELMOBILE RETAIL                0.5105866451\n",
            "SUB_TRADE_CHANNELNON-RESTAURANT EDUCATION     2.8122880864\n",
            "SUB_TRADE_CHANNELOTHER ACCOMMODATION         -1.2869096571\n",
            "SUB_TRADE_CHANNELOTHER DINING                 0.0314028448\n",
            "SUB_TRADE_CHANNELOTHER FAST FOOD             -1.1300084347\n",
            "SUB_TRADE_CHANNELOTHER GENERAL RETAIL         0.5528875387\n",
            "SUB_TRADE_CHANNELOTHER GOODS                 -0.6676950923\n",
            "SUB_TRADE_CHANNELOTHER GOURMET FOOD           1.5338508712\n",
            "SUB_TRADE_CHANNELOTHER HEALTHCARE             0.5682530634\n",
            "SUB_TRADE_CHANNELOTHER INDUSTRIAL             0.3254880231\n",
            "SUB_TRADE_CHANNELOTHER LICENSED HOSPITALITY  -0.1101571079\n",
            "SUB_TRADE_CHANNELOTHER OUTDOOR ACTIVITIES    -0.4280354827\n",
            "SUB_TRADE_CHANNELOTHER PROFESSIONAL SERVICES -0.0954939923\n",
            "SUB_TRADE_CHANNELOTHER PUBLIC SECTOR          0.1621752836\n",
            "SUB_TRADE_CHANNELOTHER RECREATION             1.4055069869\n",
            "SUB_TRADE_CHANNELOTHER TRAVEL                -0.1323651759\n",
            "SUB_TRADE_CHANNELOTHER VEHICLE CARE          -0.7720193841\n",
            "SUB_TRADE_CHANNELPIZZA FAST FOOD             -1.5957344215\n",
            "SUB_TRADE_CHANNELRECREATION FILM             -1.2583775445\n",
            "SUB_TRADE_CHANNELSANDWICH FAST FOOD          -2.8715252499\n",
            "FREQUENT_ORDER_TYPEMYCOKE LEGACY             -0.4329627976\n",
            "FREQUENT_ORDER_TYPEMYCOKE360                  0.3123432732\n",
            "FREQUENT_ORDER_TYPEOTHER                      0.2736160613\n",
            "FREQUENT_ORDER_TYPESALES REP                 -0.2058672718\n",
            "SALES.REP                                     0.0005603400\n",
            "CALL.CENTER                                   0.0004042487\n",
            "null                                          0.1689813667\n",
            "MYCOKE.LEGACY                                 0.0003918433\n",
            "MYCOKE360                                     0.0007400468\n",
            "OTHER                                        -0.0021626859\n",
            "EDI                                           .           \n",
            "cases_total                                   .           \n",
            "fountain_total                                0.0002914880\n",
            "[1] \"Lasso Accuracy: 0\"\n",
            "[1] \"Ridge Accuracy: 0\"\n"
          ]
        }
      ]
    },
    {
      "cell_type": "code",
      "source": [
        "# Second lasso/ridge logistic\n",
        "library(glmnet)\n",
        "\n",
        "# Prepare the data\n",
        "X <- model.matrix(growth_category ~ ., data = train_data)[, -1]  # Remove intercept\n",
        "y <- train_data$growth_category  # Response variable\n",
        "\n",
        "# Convert y to a factor (if needed)\n",
        "y <- as.factor(y)\n",
        "\n",
        "# Define a sequence of lambda values to test\n",
        "lambda_seq <- 10^seq(3, -3, by = -0.1)\n",
        "\n",
        "# Fit Lasso Logistic Regression (alpha = 1 for Lasso)\n",
        "lasso_model <- cv.glmnet(X, y, family = \"binomial\", alpha = 1, lambda = lambda_seq)\n",
        "\n",
        "# Fit Ridge Logistic Regression (alpha = 0 for Ridge)\n",
        "ridge_model <- cv.glmnet(X, y, family = \"binomial\", alpha = 0, lambda = lambda_seq)\n",
        "\n",
        "# Find optimal lambda values\n",
        "best_lambda_lasso <- lasso_model$lambda.1se\n",
        "best_lambda_ridge <- ridge_model$lambda.1se\n",
        "\n",
        "# Print best lambda values\n",
        "print(paste(\"Best Lambda for Lasso:\", best_lambda_lasso))\n",
        "print(paste(\"Best Lambda for Ridge:\", best_lambda_ridge))\n",
        "\n",
        "# Get coefficients for the best Lasso model\n",
        "lasso_coef <- coef(lasso_model, s = \"lambda.min\")\n",
        "print(lasso_coef)\n",
        "\n",
        "# Get coefficients for the best Ridge model\n",
        "ridge_coef <- coef(ridge_model, s = \"lambda.min\")\n",
        "print(ridge_coef)\n",
        "\n",
        "# Prepare the test data and ensure no NA values in the response variable\n",
        "# Subset test_data to remove rows with NA in 'growth_category' (if any)\n",
        "test_data_subset <- test_data[!is.na(test_data$growth_category), ]\n",
        "\n",
        "# Check that both test data and predictions align\n",
        "X_test <- model.matrix(growth_category ~ ., data = test_data_subset)[, -1]\n",
        "y_test <- test_data_subset$growth_category\n",
        "\n",
        "# Predict on test data\n",
        "lasso_preds <- predict(lasso_model, s = best_lambda_lasso, newx = X_test, type = \"class\")\n",
        "ridge_preds <- predict(ridge_model, s = best_lambda_ridge, newx = X_test, type = \"class\")\n",
        "\n",
        "# Convert predictions to binary outcome (ensure same length)\n",
        "lasso_class <- ifelse(lasso_preds > 0.5, 1, 0)\n",
        "ridge_class <- ifelse(ridge_preds > 0.5, 1, 0)\n",
        "\n",
        "# Ensure that the predicted and actual labels have the same length\n",
        "lasso_class <- lasso_class[1:length(y_test)]\n",
        "ridge_class <- ridge_class[1:length(y_test)]\n",
        "\n",
        "# Evaluate accuracy (assuming test_data$growth_category is the true label)\n",
        "lasso_accuracy <- mean(lasso_class == y_test)\n",
        "ridge_accuracy <- mean(ridge_class == y_test)\n",
        "\n",
        "# Print the accuracies\n",
        "print(paste(\"Lasso Accuracy:\", lasso_accuracy))\n",
        "print(paste(\"Ridge Accuracy:\", ridge_accuracy))\n"
      ],
      "metadata": {
        "colab": {
          "base_uri": "https://localhost:8080/"
        },
        "outputId": "0bbac1d4-5bdd-48c8-918a-4024a9b2a36b",
        "id": "QQ5GQ-1dXH1A"
      },
      "execution_count": null,
      "outputs": [
        {
          "output_type": "stream",
          "name": "stdout",
          "text": [
            "[1] \"Best Lambda for Lasso: 0.00199526231496888\"\n",
            "[1] \"Best Lambda for Ridge: 0.00125892541179417\"\n",
            "70 x 1 sparse Matrix of class \"dgCMatrix\"\n",
            "                                                        s1\n",
            "(Intercept)                                  -4.643484e-01\n",
            "total_order_2023                             -2.616011e-04\n",
            "total_order_2024                              .           \n",
            "percent_change                                3.705999e-01\n",
            "TRADE_CHANNEL.xACTIVITIES                     .           \n",
            "TRADE_CHANNEL.xBULK TRADE                     .           \n",
            "TRADE_CHANNEL.xCOMPREHENSIVE DINING           3.832439e-01\n",
            "TRADE_CHANNEL.xEDUCATION                      3.335096e+00\n",
            "TRADE_CHANNEL.xFAST CASUAL DINING             .           \n",
            "TRADE_CHANNEL.xGENERAL RETAILER               .           \n",
            "TRADE_CHANNEL.xGOURMET FOOD RETAILER          .           \n",
            "TRADE_CHANNEL.xHEALTHCARE                     2.592711e+00\n",
            "TRADE_CHANNEL.xINDUSTRIAL                     3.910892e-01\n",
            "TRADE_CHANNEL.xLICENSED HOSPITALITY           .           \n",
            "TRADE_CHANNEL.xMOBILE RETAIL                  .           \n",
            "TRADE_CHANNEL.xOTHER DINING & BEVERAGE        .           \n",
            "TRADE_CHANNEL.xOUTDOOR ACTIVITIES            -9.899284e-01\n",
            "TRADE_CHANNEL.xPROFESSIONAL SERVICES          .           \n",
            "TRADE_CHANNEL.xPUBLIC SECTOR (NON-MILITARY)   .           \n",
            "TRADE_CHANNEL.xRECREATION                     .           \n",
            "TRADE_CHANNEL.xSPECIALIZED GOODS              .           \n",
            "TRADE_CHANNEL.xTRAVEL                         .           \n",
            "TRADE_CHANNEL.xVEHICLE CARE                   .           \n",
            "COLD_DRINK_CHANNELBULK TRADE                  .           \n",
            "COLD_DRINK_CHANNELDINING                      .           \n",
            "COLD_DRINK_CHANNELEVENT                       .           \n",
            "COLD_DRINK_CHANNELGOODS                       .           \n",
            "COLD_DRINK_CHANNELPUBLIC SECTOR               .           \n",
            "COLD_DRINK_CHANNELWELLNESS                    2.657123e-02\n",
            "COLD_DRINK_CHANNELWORKPLACE                   .           \n",
            "SUB_TRADE_CHANNELBULK TRADE                   .           \n",
            "SUB_TRADE_CHANNELBURGER FAST FOOD            -1.241748e+00\n",
            "SUB_TRADE_CHANNELFAITH                        .           \n",
            "SUB_TRADE_CHANNELFRATERNITY                   .           \n",
            "SUB_TRADE_CHANNELFSR - MISC                   7.031006e-03\n",
            "SUB_TRADE_CHANNELGAME CENTER                  1.697918e+00\n",
            "SUB_TRADE_CHANNELMEXICAN FAST FOOD            6.114643e-01\n",
            "SUB_TRADE_CHANNELMOBILE RETAIL                .           \n",
            "SUB_TRADE_CHANNELNON-RESTAURANT EDUCATION     2.418209e-02\n",
            "SUB_TRADE_CHANNELOTHER ACCOMMODATION          .           \n",
            "SUB_TRADE_CHANNELOTHER DINING                 .           \n",
            "SUB_TRADE_CHANNELOTHER FAST FOOD             -4.278488e-02\n",
            "SUB_TRADE_CHANNELOTHER GENERAL RETAIL         .           \n",
            "SUB_TRADE_CHANNELOTHER GOODS                  .           \n",
            "SUB_TRADE_CHANNELOTHER GOURMET FOOD           .           \n",
            "SUB_TRADE_CHANNELOTHER HEALTHCARE             8.557303e-03\n",
            "SUB_TRADE_CHANNELOTHER INDUSTRIAL             3.283704e-02\n",
            "SUB_TRADE_CHANNELOTHER LICENSED HOSPITALITY   .           \n",
            "SUB_TRADE_CHANNELOTHER OUTDOOR ACTIVITIES     .           \n",
            "SUB_TRADE_CHANNELOTHER PROFESSIONAL SERVICES  .           \n",
            "SUB_TRADE_CHANNELOTHER PUBLIC SECTOR          .           \n",
            "SUB_TRADE_CHANNELOTHER RECREATION             .           \n",
            "SUB_TRADE_CHANNELOTHER TRAVEL                 .           \n",
            "SUB_TRADE_CHANNELOTHER VEHICLE CARE           .           \n",
            "SUB_TRADE_CHANNELPIZZA FAST FOOD             -8.973070e-01\n",
            "SUB_TRADE_CHANNELRECREATION FILM             -2.150296e+00\n",
            "SUB_TRADE_CHANNELSANDWICH FAST FOOD           .           \n",
            "FREQUENT_ORDER_TYPEMYCOKE LEGACY              .           \n",
            "FREQUENT_ORDER_TYPEMYCOKE360                 -3.275791e-01\n",
            "FREQUENT_ORDER_TYPEOTHER                      4.195562e-01\n",
            "FREQUENT_ORDER_TYPESALES REP                  .           \n",
            "SALES.REP                                    -1.455705e-05\n",
            "CALL.CENTER                                  -1.653979e-04\n",
            "null                                          5.549190e-02\n",
            "MYCOKE.LEGACY                                 3.279297e-04\n",
            "MYCOKE360                                     .           \n",
            "OTHER                                        -5.328973e-05\n",
            "EDI                                           .           \n",
            "cases_total                                   .           \n",
            "fountain_total                                .           \n",
            "70 x 1 sparse Matrix of class \"dgCMatrix\"\n",
            "                                                        s1\n",
            "(Intercept)                                  -0.1339926010\n",
            "total_order_2023                             -0.0080733232\n",
            "total_order_2024                              0.0065929915\n",
            "percent_change                                0.0781290682\n",
            "TRADE_CHANNEL.xACTIVITIES                    -0.2279401208\n",
            "TRADE_CHANNEL.xBULK TRADE                    -0.0136636698\n",
            "TRADE_CHANNEL.xCOMPREHENSIVE DINING           0.0486322810\n",
            "TRADE_CHANNEL.xEDUCATION                      2.8136663551\n",
            "TRADE_CHANNEL.xFAST CASUAL DINING             0.1410569446\n",
            "TRADE_CHANNEL.xGENERAL RETAILER               0.5636383317\n",
            "TRADE_CHANNEL.xGOURMET FOOD RETAILER          1.5361930513\n",
            "TRADE_CHANNEL.xHEALTHCARE                     0.5768467118\n",
            "TRADE_CHANNEL.xINDUSTRIAL                     0.3310366479\n",
            "TRADE_CHANNEL.xLICENSED HOSPITALITY          -0.1122542601\n",
            "TRADE_CHANNEL.xMOBILE RETAIL                  0.5105138913\n",
            "TRADE_CHANNEL.xOTHER DINING & BEVERAGE        0.0271495274\n",
            "TRADE_CHANNEL.xOUTDOOR ACTIVITIES            -0.4354900596\n",
            "TRADE_CHANNEL.xPROFESSIONAL SERVICES         -0.0956445906\n",
            "TRADE_CHANNEL.xPUBLIC SECTOR (NON-MILITARY)   0.1498535441\n",
            "TRADE_CHANNEL.xRECREATION                    -0.1274104599\n",
            "TRADE_CHANNEL.xSPECIALIZED GOODS             -0.6669439101\n",
            "TRADE_CHANNEL.xTRAVEL                        -0.1316705802\n",
            "TRADE_CHANNEL.xVEHICLE CARE                  -0.7629693344\n",
            "COLD_DRINK_CHANNELBULK TRADE                 -0.0110508749\n",
            "COLD_DRINK_CHANNELDINING                      0.0704466711\n",
            "COLD_DRINK_CHANNELEVENT                      -0.2011806874\n",
            "COLD_DRINK_CHANNELGOODS                       0.2869466181\n",
            "COLD_DRINK_CHANNELPUBLIC SECTOR              -0.0508905608\n",
            "COLD_DRINK_CHANNELWELLNESS                    0.5766215400\n",
            "COLD_DRINK_CHANNELWORKPLACE                   0.0289278946\n",
            "SUB_TRADE_CHANNELBULK TRADE                  -0.0119123316\n",
            "SUB_TRADE_CHANNELBURGER FAST FOOD            -1.1346047410\n",
            "SUB_TRADE_CHANNELFAITH                        .           \n",
            "SUB_TRADE_CHANNELFRATERNITY                  -0.7044161547\n",
            "SUB_TRADE_CHANNELFSR - MISC                   0.0458254267\n",
            "SUB_TRADE_CHANNELGAME CENTER                  0.9542326008\n",
            "SUB_TRADE_CHANNELMEXICAN FAST FOOD           -0.5602156377\n",
            "SUB_TRADE_CHANNELMOBILE RETAIL                0.5105866451\n",
            "SUB_TRADE_CHANNELNON-RESTAURANT EDUCATION     2.8122880864\n",
            "SUB_TRADE_CHANNELOTHER ACCOMMODATION         -1.2869096571\n",
            "SUB_TRADE_CHANNELOTHER DINING                 0.0314028448\n",
            "SUB_TRADE_CHANNELOTHER FAST FOOD             -1.1300084347\n",
            "SUB_TRADE_CHANNELOTHER GENERAL RETAIL         0.5528875387\n",
            "SUB_TRADE_CHANNELOTHER GOODS                 -0.6676950923\n",
            "SUB_TRADE_CHANNELOTHER GOURMET FOOD           1.5338508712\n",
            "SUB_TRADE_CHANNELOTHER HEALTHCARE             0.5682530634\n",
            "SUB_TRADE_CHANNELOTHER INDUSTRIAL             0.3254880231\n",
            "SUB_TRADE_CHANNELOTHER LICENSED HOSPITALITY  -0.1101571079\n",
            "SUB_TRADE_CHANNELOTHER OUTDOOR ACTIVITIES    -0.4280354827\n",
            "SUB_TRADE_CHANNELOTHER PROFESSIONAL SERVICES -0.0954939923\n",
            "SUB_TRADE_CHANNELOTHER PUBLIC SECTOR          0.1621752836\n",
            "SUB_TRADE_CHANNELOTHER RECREATION             1.4055069869\n",
            "SUB_TRADE_CHANNELOTHER TRAVEL                -0.1323651759\n",
            "SUB_TRADE_CHANNELOTHER VEHICLE CARE          -0.7720193841\n",
            "SUB_TRADE_CHANNELPIZZA FAST FOOD             -1.5957344215\n",
            "SUB_TRADE_CHANNELRECREATION FILM             -1.2583775445\n",
            "SUB_TRADE_CHANNELSANDWICH FAST FOOD          -2.8715252499\n",
            "FREQUENT_ORDER_TYPEMYCOKE LEGACY             -0.4329627976\n",
            "FREQUENT_ORDER_TYPEMYCOKE360                  0.3123432732\n",
            "FREQUENT_ORDER_TYPEOTHER                      0.2736160613\n",
            "FREQUENT_ORDER_TYPESALES REP                 -0.2058672718\n",
            "SALES.REP                                     0.0005603400\n",
            "CALL.CENTER                                   0.0004042487\n",
            "null                                          0.1689813667\n",
            "MYCOKE.LEGACY                                 0.0003918433\n",
            "MYCOKE360                                     0.0007400468\n",
            "OTHER                                        -0.0021626859\n",
            "EDI                                           .           \n",
            "cases_total                                   .           \n",
            "fountain_total                                0.0002914880\n",
            "[1] \"Lasso Accuracy: 0\"\n",
            "[1] \"Ridge Accuracy: 0\"\n"
          ]
        }
      ]
    }
  ],
  "metadata": {
    "colab": {
      "provenance": []
    },
    "kernelspec": {
      "display_name": "R",
      "name": "ir"
    },
    "language_info": {
      "name": "R"
    }
  },
  "nbformat": 4,
  "nbformat_minor": 0
}